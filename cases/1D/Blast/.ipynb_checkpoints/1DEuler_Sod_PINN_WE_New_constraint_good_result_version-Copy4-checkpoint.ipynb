{
 "cells": [
  {
   "cell_type": "markdown",
   "metadata": {},
   "source": [
    "# Solving Sod Problem with PINN-WE\n",
    "\n",
    "\n",
    "* This code is modified from the code https://github.com/alexpapados/Physics-Informed-Deep-Learning-Solid-and-Fluid-Mechanics\n",
    "\n",
    "* The paper about this code can be reffed to https://www.researchgate.net/publication/359480166_Discontinuity_Computing_with_Physics-Informed_Neural_Network\n",
    "\n",
    "* For strong shock waves, PINN-WE can let you get a discontinuous result quickly and sharply. But it can not guarantee the result must be physical. You can try to change the random seed or learning rate to get a different result. In the paper, we show the best result of some tests to demonstrate that PINN-WE has the potential ability to handle a non-linear discontinuous problem.\n",
    "\n",
    "* So physics constraints are needed near shock waves. They are conservation laws, Rankine-Hugoniot relations and entropy condition. We develop a physics screen method here to determinate the problem.\n"
   ]
  },
  {
   "cell_type": "code",
   "execution_count": 59,
   "metadata": {},
   "outputs": [],
   "source": []
  },
  {
   "cell_type": "code",
   "execution_count": null,
   "metadata": {},
   "outputs": [
    {
     "name": "stdout",
     "output_type": "stream",
     "text": [
      "Start training...\n",
      "Total training time: 36.71026420593262\n",
      "Total training time: 145.3600594997406\n",
      "Total training time: 228.12487745285034\n",
      "Start training...\n",
      "Total training time: 50.37791180610657\n",
      "Total training time: 111.40134572982788\n",
      "Total training time: 228.0030426979065\n",
      "Start training...\n",
      "Total training time: 40.34910798072815\n",
      "Total training time: 187.83536458015442\n",
      "Total training time: 229.19848918914795\n",
      "Start training...\n",
      "Total training time: 43.238173484802246\n",
      "Total training time: 186.25732851028442\n",
      "Total training time: 228.4935600757599\n",
      "Start training...\n",
      "Total training time: 37.99523138999939\n",
      "Total training time: 146.35510301589966\n",
      "Total training time: 227.33589792251587\n",
      "Start training...\n",
      "Total training time: 45.19143104553223\n",
      "Total training time: 182.41161227226257\n",
      "Total training time: 229.44418597221375\n",
      "Start training...\n",
      "Total training time: 48.37271189689636\n",
      "Total training time: 189.92952799797058\n",
      "Total training time: 231.64703035354614\n",
      "Start training...\n",
      "Total training time: 43.48953938484192\n",
      "Total training time: 188.93327832221985\n",
      "Total training time: 159.49937272071838\n",
      "Start training...\n",
      "Total training time: 50.35223937034607\n"
     ]
    }
   ],
   "source": [
    "import torch\n",
    "import torch.nn as nn\n",
    "import numpy as np\n",
    "import time\n",
    "import scipy.io\n",
    "# Seeds\n",
    "\n",
    "u_pred = np.zeros((100,3,10))\n",
    "def setup_seed(seed):\n",
    "    torch.manual_seed(seed)\n",
    "    torch.cuda.manual_seed_all(seed)\n",
    "    np.random.seed(seed)\n",
    "    #random.seed(seed)\n",
    "    torch.backends.cudnn.deterministic = True\n",
    "for irand in range(10):\n",
    "    setup_seed(irand)\n",
    "    \n",
    "    def train(epoch):\n",
    "        def closure():\n",
    "            optimizer.zero_grad()                                                     \n",
    "            loss_pde = model.loss_pde(x_int_train)                                    \n",
    "            loss_ic = model.loss_ic(x_ic_train, rho_ic_train,u_ic_train,p_ic_train)   \n",
    "            loss_bc = model.loss_ic(x_bc_train, rho_bc_train,u_bc_train,p_bc_train)   \n",
    "            \n",
    "            #loss_rh1 = model.loss_rh(x,x_r) # RH relation\n",
    "            loss_rh1 = model.loss_rh(x_screen2,x_screen2_L,x_screen2_R) # RH relation\n",
    "            #loss_rh3 = model.loss_rh(x_screen3,x_screen3_L,x_screen3_R) # RH relation\n",
    "            #loss_rh2 = model.loss_rh(x_end,x_d) # RH relation along time direction\n",
    "            #loss_rh2 = model.loss_rh(x_ic_train,x_r2) # RH relation along time direction\n",
    "            #loss_s = model.loss_character(x_screen1,x_screen1_L) # Entropy condition\n",
    "           # loss_s0 = model.loss_character(x_screen2,x_screen2_R) # Entropy condition\n",
    "            #loss_s3 = model.loss_character(x_screen3,x_screen3_L) # Entropy condition\n",
    "            loss_con3 = model.loss_con(x_screen3 ,x_ic_train,T3) #Conservation laws\n",
    "            loss_con1 = model.loss_con(x_screen1 ,x_ic_train,T1) #Conservation laws\n",
    "            loss = loss_pde + 10*(loss_ic+loss_bc) # +  loss_rh1   + 10*(loss_con1 +loss_con3) #+ loss_s0 \n",
    "            #print(f'epoch {epoch} loss_pde:{loss_pde:.8f},loss_rh1:{loss_rh1:.8f},loss_con:{loss_con1:.8f}, loss_s:{loss_s0:.8f}, loss_ic:{loss_ic:.8f}')\n",
    "            loss.backward()\n",
    "            return loss\n",
    "        loss = optimizer.step(closure)\n",
    "        return loss\n",
    "       \n",
    "    def gradients(outputs, inputs): return torch.autograd.grad(outputs, inputs,grad_outputs=torch.ones_like(outputs), create_graph=True)\n",
    "    \n",
    "    # Convert torch tensor into np.array\n",
    "    def to_numpy(input):\n",
    "        if isinstance(input, torch.Tensor):\n",
    "            return input.detach().cpu().numpy()\n",
    "        elif isinstance(input, np.ndarray):\n",
    "            return input\n",
    "        else:\n",
    "            raise TypeError('Unknown type of input, expected torch.Tensor or ' \\\n",
    "                            'np.ndarray, but got {}'.format(type(input)))\n",
    "    \n",
    "    # Initial conditions\n",
    "    def IC(x):\n",
    "        N = x.shape[0]\n",
    "        rho_init = np.zeros((x.shape[0]))                                              \n",
    "        u_init = np.zeros((x.shape[0]))                                                \n",
    "        p_init = np.zeros((x.shape[0]))                                                \n",
    "    \n",
    "        # rho, p - initial condition\n",
    "        for i in range(N):\n",
    "            if (x[i,1] <= 0.5):\n",
    "                rho_init[i] = 1.0\n",
    "                p_init[i] = 1.0\n",
    "            else:\n",
    "                rho_init[i] = 0.125\n",
    "                p_init[i] = 0.1\n",
    "    \n",
    "        return rho_init, u_init, p_init\n",
    "    def BC(x):\n",
    "        N = x.shape[0]\n",
    "        rho_init = np.zeros((x.shape[0]))                                              \n",
    "        u_init = np.zeros((x.shape[0]))                                                \n",
    "        p_init = np.zeros((x.shape[0]))                                                \n",
    "    \n",
    "        # rho, p - initial condition\n",
    "        for i in range(N):\n",
    "            if (x[i,1] <= 0.5):\n",
    "                rho_init[i] = 1.0\n",
    "                p_init[i] = 1.0\n",
    "            else:\n",
    "                rho_init[i] = 0.125\n",
    "                p_init[i] = 0.1\n",
    "    \n",
    "        return rho_init, u_init, p_init\n",
    "    \n",
    "    \n",
    "    # Generate Neural Network\n",
    "    class DNN(nn.Module):\n",
    "    \n",
    "        def __init__(self):\n",
    "            super(DNN, self).__init__()\n",
    "            self.net = nn.Sequential()                                                  \n",
    "            self.net.add_module('Linear_layer_1', nn.Linear(2, 30))                     \n",
    "            self.net.add_module('Tanh_layer_1', nn.Tanh())                              \n",
    "    \n",
    "            for num in range(2, 5):                                                     \n",
    "                self.net.add_module('Linear_layer_%d' % (num), nn.Linear(30, 30))       \n",
    "                self.net.add_module('Tanh_layer_%d' % (num), nn.Tanh())                 \n",
    "            self.net.add_module('Linear_layer_final', nn.Linear(30, 3))                 \n",
    "    \n",
    "        # Forward Feed\n",
    "        def forward(self, x):\n",
    "            return self.net(x)\n",
    "    \n",
    "        # Loss function for PDE\n",
    "        def loss_pde(self, x):\n",
    "            y = self.net(x)                                                \n",
    "            rho,p,u = y[:, 0:1], y[:, 1:2], y[:, 2:]\n",
    "            \n",
    "            U2 = rho*u\n",
    "            U3 = 0.5*rho*u**2 + p/0.4\n",
    "            \n",
    "            #F1 = U2\n",
    "            F2 = rho*u**2+p\n",
    "            F3 = u*(U3 + p)\n",
    "            \n",
    "            gamma = 1.4                                                    \n",
    "    \n",
    "            # Gradients and partial derivatives\n",
    "            drho_g = gradients(rho, x)[0]                                  \n",
    "            rho_t, rho_x = drho_g[:, :1], drho_g[:, 1:]             \n",
    "    \n",
    "    \n",
    "            du_g = gradients(u, x)[0]                                      \n",
    "            u_t, u_x = du_g[:, :1], du_g[:, 1:]                            \n",
    "            \n",
    "            dp_g = gradients(p, x)[0]                                      \n",
    "            p_t, p_x = dp_g[:, :1], dp_g[:, 1:]                            \n",
    "    \n",
    "           # dp_g = gradients(p, x)[0]                                     \n",
    "           # p_t, p_x = dp_g[:, :1], dp_g[:, 1:]                           \n",
    "            \n",
    "            dU2_g = gradients(U2, x)[0]\n",
    "            U2_t,U2_x = dU2_g[:,:1], dU2_g[:,1:]\n",
    "            dU3_g = gradients(U3, x)[0]\n",
    "            U3_t,U3_x = dU3_g[:,:1], dU3_g[:,1:]\n",
    "            dF2_g = gradients(F2, x)[0]\n",
    "            F2_t,F2_x = dF2_g[:,:1], dF2_g[:,1:]\n",
    "            dF3_g = gradients(F3, x)[0]\n",
    "            F3_t,F3_x = dF3_g[:,:1], dF3_g[:,1:]\n",
    "    \n",
    "            d = 0.1*(abs(u_x)+abs(rho_x)+abs(p_x))  + 1\n",
    "         \n",
    "            f = (((rho_t + U2_x)/d)**2).mean() + \\\n",
    "                (((U2_t  + F2_x)/d)**2).mean() + \\\n",
    "                (((U3_t  + F3_x)/d)**2).mean() #+\\\n",
    "                #((rho_t).mean())**2 +\\\n",
    "                #((U3_t).mean())**2 \n",
    "        \n",
    "            return f\n",
    "    \n",
    "        # Loss function for initial condition\n",
    "        def loss_ic(self, x_ic, rho_ic, u_ic, p_ic):\n",
    "            y_ic = self.net(x_ic)                                                      \n",
    "            rho_ic_nn, p_ic_nn,u_ic_nn = y_ic[:, 0], y_ic[:, 1], y_ic[:, 2]            \n",
    "    \n",
    "            # Loss function for the initial condition\n",
    "            loss_ics = ((u_ic_nn - u_ic) ** 2).mean() + \\\n",
    "                   ((rho_ic_nn- rho_ic) ** 2).mean()  + \\\n",
    "                   ((p_ic_nn - p_ic) ** 2).mean()\n",
    "    \n",
    "            return loss_ics\n",
    "        \n",
    "        # Loss function for conservation\n",
    "        def loss_con(self, x_en,x_in,t):\n",
    "            y_en = self.net(x_en)                                       \n",
    "            y_in = self.net(x_in)                                       \n",
    "            rhoen, pen,uen = y_en[:, 0], y_en[:, 1], y_en[:, 2]         \n",
    "            rhoin, pin,uin = y_in[:, 0], y_in[:, 1], y_in[:, 2]         \n",
    "    \n",
    "            U3 = 0.5*rhoen*uen**2 + pen/0.4\n",
    "            U3in = 0.5*rhoin*uin**2 + pin/0.4\n",
    "            # Loss function for the initial condition\n",
    "            loss_en = ((rhoen - rhoin).mean())**2 + \\\n",
    "                ((U3- U3in).mean())**2 +\\\n",
    "                (((1-0.1)*t - rhoen*uen).mean())**2\n",
    "            return loss_en\n",
    "        \n",
    "        # Loss function for RH relation\n",
    "     #   def loss_rh(self, x_l,x_r):\n",
    "     #       y_r = self.net(x_r)                                    \n",
    "     #       y_l = self.net(x_l)                                    \n",
    "     #       rhol, pl,ul = y_l[:, 0], y_l[:, 1], y_l[:, 2]          \n",
    "     #       rhor, pr,ur = y_r[:, 0], y_r[:, 1], y_r[:, 2]          \n",
    "    #\n",
    "     #       du_g = gradients(ul, x_l)[0]                                      \n",
    "     #       u_t, u_x = du_g[:, :1], du_g[:, 1:]                            \n",
    "     #       d = 1/(0.1*(abs(u_x)-u_x)  + 1)\n",
    "     #       eta =  torch.clamp(d-0.1,max=0)\n",
    "     #      # eta = 1\n",
    "     #       \n",
    "     #       loss_rh =  (((pr/pl - (6*rhor-rhol)/(6*rhol-rhor))*(pr-pl)*eta)**2).max()+\\\n",
    "     #                  ((((ur-ul)**2 -2/rhor*(pr-pl)**2/(0.4*pr+2.4*pl))*eta)**2).max()\n",
    "     #                   #(((rhor/rhol - (6*pr+pl)/(6*pl+pr))*eta)**2).max()+\\\n",
    "            return loss_rh\n",
    "        def loss_rh(self, x,x_l,x_r):\n",
    "            y = self.net(x)                                    \n",
    "            y_r = self.net(x_r)                                    \n",
    "            y_l = self.net(x_l)                                    \n",
    "            rho, p,u = y[:, 0], y[:, 1], y[:, 2]          \n",
    "            rhol, pl,ul = y_l[:, 0], y_l[:, 1], y_l[:, 2]          \n",
    "            rhor, pr,ur = y_r[:, 0], y_r[:, 1], y_r[:, 2]          \n",
    "    \n",
    "            du_g = gradients(u, x)[0]                                      \n",
    "            u_t, u_x = du_g[:, :1], du_g[:, 1:]                            \n",
    "            d = 1/(0.1*(abs(u_x)-u_x)  + 1)\n",
    "            #eta =  torch.clamp(d-0.1,max=0)*torch.clamp(abs(p-pl)-0.01,min=0)*torch.clamp(abs(u-ul)-0.01,min=0)\n",
    "            eta =  torch.clamp(abs(p-pl)-0.01,min=0)*torch.clamp(abs(u-ul)-0.01,min=0)\n",
    "            #eta = 1\n",
    "            \n",
    "            loss_rh =  (((rho/rhol - (6*p+pl)/(6*pl+p))*eta)**2).mean()+\\\n",
    "                       (((rhor/rho - (6*pr+p)/(6*p+pr))*eta)**2).mean()+\\\n",
    "                       ((((ur-ul)**2 -2/rhor*(pr-pl)**2/(0.4*pr+2.4*pl))*eta)**2).mean()\n",
    "               #        ((((ur-u)**2 -2/rho*(pr-p)**2/(0.4*pr+2.4*p))*eta)**2).max()\n",
    "                \n",
    "            #loss_rh =  (((pr/pl - (6*rhor-rhol)/(6*rhol-rhor))*(pr-pl)*eta)**2).max()+\\\n",
    "                       #((((u-ul)**2 -2/rho*(p-pl)**2/(0.4*p+2.4*pl))*eta)**2).max()+\\\n",
    "            return loss_rh\n",
    "        \n",
    "        def loss_character(self, x_l,x_r):\n",
    "            y_r = self.net(x_r)                                                      # Initial condition\n",
    "            y_l = self.net(x_l)                                                      # Initial condition\n",
    "            rhol, pl,ul = y_l[:, 0], y_l[:, 1], y_l[:, 2]            # rho, u, p - initial condition\n",
    "            rhor, pr,ur = y_r[:, 0], y_r[:, 1], y_r[:, 2]            # rho, u, p - initial condition\n",
    "    \n",
    "            #du_g = gradients(ul, x_l)[0]                                      \n",
    "            #u_t, u_x = du_g[:, :1], du_g[:, 1:]                            \n",
    "            #d = 1/(0.1*(abs(u_x)-u_x)  + 1)\n",
    "            #eta =  torch.clamp(d-0.1,max=0)*torch.clamp(abs(pr-pl)-0.01,min=0)*torch.clamp(abs(ur-ul)-0.01,min=0)\n",
    "            eta =  torch.clamp(abs(pr-pl)-0.01,min=0)*torch.clamp(abs(ur-ul)-0.01,min=0)\n",
    "           # eta = 1\n",
    "            # Loss function for the initial condition\n",
    "            gamma = 1.4\n",
    "            ss = 1.0e-10\n",
    "            cL = torch.sqrt(gamma*abs(pl)/(abs(rhol)+ss))\n",
    "            cR = torch.sqrt(gamma*abs(pr)/(abs(rhor)+ss))\n",
    "            sR = torch.max(ul+cL,ur+cR)* (rhol-rhor)\n",
    "            sL = torch.min(ul-cL,ur-cR)*(rhol-rhor)\n",
    "            \n",
    "            s = rhol*ul - rhor*ur\n",
    "           # if (s.max() > 1000):\n",
    "           #     print(rhol-rhor)\n",
    "           #     print(s)\n",
    "            #print(torch.clamp(s-sR,min=0))\n",
    "           # print(eta)\n",
    "           # sm = exp(-100*(s-sR))\n",
    "            loss_s = (((s-sR)*(s-sL)*eta)**2).mean()  #torch.min((((,torch.tensor(1.0))  #+ ((torch.clamp(sL-s,min=0))**2).max()\n",
    "            return loss_s\n",
    "            \n",
    "        \n",
    "    def X_entropy(x,T,dt,dx):\n",
    "        N=x.shape[0]\n",
    "        xs   = np.zeros((N,2)) \n",
    "        xsL  = np.zeros((N,2)) \n",
    "        xsR  = np.zeros((N,2)) \n",
    "        xsP  = np.zeros((N,2)) \n",
    "        xsPL = np.zeros((N,2)) \n",
    "        xsPR = np.zeros((N,2)) \n",
    "        \n",
    "        for i in range(N):\n",
    "            xs[i,1] = x[i,1]\n",
    "            xs[i,0] = x[i,0] + T\n",
    "            xsL[i,1] = xs[i,1] - dx\n",
    "            xsL[i,0] = xs[i,0]\n",
    "            xsR[i,1] = xs[i,1] + dx\n",
    "            xsR[i,0] = xsR[i,0]\n",
    "            xsP[i,0] = xs[i,0] + dt\n",
    "            xsP[i,1] = xs[i,1]\n",
    "            xsPL[i,0] = xsP[i,0]\n",
    "            xsPL[i,1] = xsP[i,1]+ dx\n",
    "            xsPR[i,0] = xsP[i,0]\n",
    "            xsPR[i,1] = xsP[i,1]- dx\n",
    "            \n",
    "        return xs,xsL,xsR,xsP,xsPL,xsPR\n",
    "    \n",
    "    #def X_entropy(x,dt):\n",
    "    #    N=x.shape[0]\n",
    "    #    xen =np.zeros((N,2)) \n",
    "    #    \n",
    "    #    for i in range(N):\n",
    "    #        xen[i,1] = x[i,1]\n",
    "    #        xen[i,0] = x[i,0] + dt\n",
    "    #    return xen\n",
    "    \n",
    "    def X_right(x,dx):\n",
    "        N=x.shape[0]\n",
    "        xen =np.zeros((N,2)) \n",
    "        \n",
    "        for i in range(N):\n",
    "            xen[i,1] = x[i,1] + dx\n",
    "            xen[i,0] = x[i,0] \n",
    "        return xen\n",
    "    def bc_data(N,Ts,Te,Xs,Xe):\n",
    "        x =np.zeros((2*N,2)) \n",
    "        \n",
    "        for i in range(N):\n",
    "            x[i,0] = (Te - Ts)*i/N\n",
    "            x[i,1] = Xs\n",
    "            \n",
    "        for i in range(N):\n",
    "            x[i+N,0] = (Te - Ts)*i/N\n",
    "            x[i+N,1] = Xe\n",
    "        return x\n",
    "        \n",
    "        \n",
    "    device = torch.device('cuda')         # change to cpu if you dont have a cuda device                              \n",
    "    num_x = 50                                                        \n",
    "    num_t = 50                                                        \n",
    "    num_i_train = 50                                                 \n",
    "    num_f_train =  50*50                                               \n",
    "    x = np.linspace(0.0, 1.0, num_x)                                   \n",
    "    t = np.linspace(0, 0.2, num_t)                                     \n",
    "    t_grid, x_grid = np.meshgrid(t, x)                                 \n",
    "    T = t_grid.flatten()[:, None]                                      \n",
    "    X = x_grid.flatten()[:, None]                                      \n",
    "    id_f = np.random.choice(num_x*num_t, num_f_train, replace=False)   \n",
    "    \n",
    "    x_int = X[:, 0][id_f, None]                                        \n",
    "    t_int = T[:, 0][id_f, None]                                        \n",
    "    x_int_train = np.hstack((t_int, x_int))                            \n",
    "    \n",
    "    x = np.linspace(0.0, 1.0, 50)                                   \n",
    "    t = np.linspace(0, 0.2, 50)                                       \n",
    "    t_grid, x_grid = np.meshgrid(t, x)                                 \n",
    "    id_ic = np.random.choice(50, 50, replace=False)   \n",
    "    T = t_grid.flatten()[:, None]                                      \n",
    "    X = x_grid.flatten()[:, None]                                      \n",
    "    x_ic = x_grid[id_ic, 0][:, None]                                   \n",
    "    t_ic = t_grid[id_ic, 0][:, None]                                   \n",
    "    x_ic_train = np.hstack((t_ic, x_ic))\n",
    "    x_bc_train = bc_data(50,0,0.2,0,1.0)\n",
    "    \n",
    "    rho_ic_train, u_ic_train, p_ic_train = IC(x_ic_train)                    \n",
    "    rho_bc_train, u_bc_train, p_bc_train = IC(x_bc_train)                    \n",
    "    \n",
    "    T1 = 0.05\n",
    "    T3 = 0.2\n",
    "    x_screen1,x_screen1_L,x_screen1_R,x_screen1_P,x_screen1_PL,x_screen1_PR = X_entropy(x_ic_train,0.01,0.01,0.01)\n",
    "    x_screen2,x_screen2_L,x_screen2_R,x_screen2_P,x_screen2_PL,x_screen2_PR = X_entropy(x_int_train,0.0,0.01,0.01)\n",
    "    x_screen3,x_screen3_L,x_screen3_R,x_screen3_P,x_screen3_PL,x_screen3_PR = X_entropy(x_ic_train,0.2,0.01,0.01)\n",
    "    \n",
    "    x_screen1     = torch.tensor(x_screen1, requires_grad=True, dtype=torch.float32).to(device)\n",
    "    x_screen1_L   = torch.tensor(x_screen1_L, dtype=torch.float32).to(device) \n",
    "    x_screen1_R   = torch.tensor(x_screen1_R, dtype=torch.float32).to(device)\n",
    "    x_screen1_P   = torch.tensor(x_screen1_P, requires_grad=True, dtype=torch.float32).to(device)\n",
    "    x_screen1_PL  = torch.tensor(x_screen1_PL, dtype=torch.float32).to(device)\n",
    "    x_screen1_PR  = torch.tensor(x_screen1_PR, dtype=torch.float32).to(device)\n",
    "    \n",
    "    x_screen2     = torch.tensor(x_screen2, requires_grad=True, dtype=torch.float32).to(device)\n",
    "    x_screen2_L   = torch.tensor(x_screen2_L, dtype=torch.float32).to(device)\n",
    "    x_screen2_R   = torch.tensor(x_screen2_R, dtype=torch.float32).to(device)\n",
    "    x_screen2_P   = torch.tensor(x_screen2_P, requires_grad=True, dtype=torch.float32).to(device)\n",
    "    x_screen2_PL  = torch.tensor(x_screen2_PL, dtype=torch.float32).to(device)\n",
    "    x_screen2_PR  = torch.tensor(x_screen2_PR, dtype=torch.float32).to(device)\n",
    "    \n",
    "    x_screen3     = torch.tensor(x_screen3, requires_grad=True, dtype=torch.float32).to(device)\n",
    "    x_screen3_L   = torch.tensor(x_screen3_L, dtype=torch.float32).to(device) \n",
    "    x_screen3_R   = torch.tensor(x_screen3_R, dtype=torch.float32).to(device)\n",
    "    x_screen3_P   = torch.tensor(x_screen3_P, requires_grad=True, dtype=torch.float32).to(device)\n",
    "    x_screen3_PL  = torch.tensor(x_screen3_PL, dtype=torch.float32).to(device)\n",
    "    x_screen3_PR  = torch.tensor(x_screen3_PR, dtype=torch.float32).to(device)\n",
    "    \n",
    "    #x_end = X_entropy(x_ic_train,0.2)                                 # Random (x,t) - vectorized\n",
    "    #x_r = X_right(x_end,0.01)                                 # Random (x,t) - vectorized\n",
    "    #x_l = X_right(x_end,-0.01)\n",
    "    #x_r2 = X_right(x_ic_train,0.01)                                 # Random (x,t) - vectorized\n",
    "    #x_l2 = X_right(x_ic_train,-0.01)\n",
    "    #x_end2 = X_entropy(x_ic_train,0.2)                                 # Random (x,t) - vectorized\n",
    "    \n",
    "    #x_end     = torch.tensor(x_end, requires_grad=True, dtype=torch.float32).to(device)\n",
    "    #x_l       = torch.tensor(x_l, dtype=torch.float32).to(device)\n",
    "    #x_r       = torch.tensor(x_r, dtype=torch.float32).to(device)\n",
    "    #x_l2      = torch.tensor(x_l2, dtype=torch.float32).to(device)\n",
    "    #x_r2      = torch.tensor(x_r2, dtype=torch.float32).to(device)\n",
    "    \n",
    "    x_ic_train = torch.tensor(x_ic_train,requires_grad=True, dtype=torch.float32).to(device)\n",
    "    x_bc_train = torch.tensor(x_bc_train,requires_grad=True, dtype=torch.float32).to(device)\n",
    "    x_int_train = torch.tensor(x_int_train, requires_grad=True, dtype=torch.float32).to(device)\n",
    "    \n",
    "    rho_ic_train = torch.tensor(rho_ic_train, dtype=torch.float32).to(device)\n",
    "    u_ic_train = torch.tensor(u_ic_train, dtype=torch.float32).to(device)\n",
    "    p_ic_train = torch.tensor(p_ic_train, dtype=torch.float32).to(device)\n",
    "    \n",
    "    rho_bc_train = torch.tensor(rho_bc_train, dtype=torch.float32).to(device)\n",
    "    u_bc_train = torch.tensor(u_bc_train, dtype=torch.float32).to(device)\n",
    "    p_bc_train = torch.tensor(p_bc_train, dtype=torch.float32).to(device)\n",
    "    \n",
    "    \n",
    "    model = DNN().to(device)\n",
    "    \n",
    "    print('Start training...')\n",
    "\n",
    "\n",
    "    \n",
    "    \n",
    "    lr = 0.001                                                           # Learning rate\n",
    "    optimizer = torch.optim.Adam(model.parameters(), lr=lr)\n",
    "    epochs = 30000\n",
    "    epochi = 0\n",
    "    tic = time.time()\n",
    "    for epoch in range(1+epochi, epochs+epochi):\n",
    "        loss = train(epoch)\n",
    "        if loss < 0.02:\n",
    "            break\n",
    "    toc = time.time()\n",
    "    print(f'Total training time: {toc - tic}')\n",
    "    optimizer = torch.optim.LBFGS(model.parameters(),lr=0.1,max_iter=10)\n",
    "    epochi = epoch\n",
    "    epochs = 1000\n",
    "    tic = time.time()\n",
    "    for epoch in range(epochi, epochs+epochi):\n",
    "        train(epoch)\n",
    "    toc = time.time()\n",
    "    print(f'Total training time: {toc - tic}')\n",
    "    def train(epoch):\n",
    "        def closure():\n",
    "            optimizer.zero_grad()                                                     \n",
    "            loss_pde = model.loss_pde(x_int_train)                                    \n",
    "            loss_ic = model.loss_ic(x_ic_train, rho_ic_train,u_ic_train,p_ic_train)   \n",
    "            loss_bc = model.loss_ic(x_bc_train, rho_bc_train,u_bc_train,p_bc_train)   \n",
    "            \n",
    "            #loss_rh1 = model.loss_rh(x,x_r) # RH relation\n",
    "            loss_rh1 = model.loss_rh(x_screen2,x_screen2_L,x_screen2_R) # RH relation\n",
    "            #loss_rh3 = model.loss_rh(x_screen3,x_screen3_L,x_screen3_R) # RH relation\n",
    "            #loss_rh2 = model.loss_rh(x_end,x_d) # RH relation along time direction\n",
    "            #loss_rh2 = model.loss_rh(x_ic_train,x_r2) # RH relation along time direction\n",
    "            #loss_s = model.loss_character(x_screen1,x_screen1_L) # Entropy condition\n",
    "           # loss_s0 = model.loss_character(x_screen2,x_screen2_R) # Entropy condition\n",
    "            #loss_s3 = model.loss_character(x_screen3,x_screen3_L) # Entropy condition\n",
    "            loss_con3 = model.loss_con(x_screen3 ,x_ic_train,T3) #Conservation laws\n",
    "            loss_con1 = model.loss_con(x_screen1 ,x_ic_train,T1) #Conservation laws\n",
    "            loss = loss_pde + 10*(loss_ic+loss_bc) +  loss_rh1   + 10*(loss_con1 +loss_con3) #+ loss_s0 \n",
    "            #print(f'epoch {epoch} loss_pde:{loss_pde:.8f},loss_rh1:{loss_rh1:.8f},loss_con:{loss_con1:.8f}, loss_s:{loss_s0:.8f}, loss_ic:{loss_ic:.8f}')\n",
    "            loss.backward()\n",
    "            return loss\n",
    "        loss = optimizer.step(closure)\n",
    "        return loss\n",
    "    \n",
    "    optimizer = torch.optim.LBFGS(model.parameters(),lr=0.1,max_iter=10)\n",
    "    epochi = epoch\n",
    "    epochs = 1000\n",
    "    tic = time.time()\n",
    "    for epoch in range(epochi, epochs+epochi):\n",
    "        train(epoch)\n",
    "    toc = time.time()\n",
    "    print(f'Total training time: {toc - tic}')\n",
    "    x = np.linspace(0.0, 1.0, 100)                                   \n",
    "    t = np.linspace(0.2, 0.2, 1)                                     \n",
    "    t_grid, x_grid = np.meshgrid(t, x)                               \n",
    "    T = t_grid.flatten()[:, None]                                    \n",
    "    X = x_grid.flatten()[:, None]                                    \n",
    "    x_test = np.hstack((T, X))                                       \n",
    "    x_test = torch.tensor(x_test, dtype=torch.float32).to(device)\n",
    "    u_pred[:,:,irand] = to_numpy(model(x_test))"
   ]
  },
  {
   "cell_type": "code",
   "execution_count": 45,
   "metadata": {
    "scrolled": true
   },
   "outputs": [
    {
     "data": {
      "image/png": "[encoded data removed]",
      "text/plain": [
       "<Figure size 432x288 with 1 Axes>"
      ]
     },
     "metadata": {
      "needs_background": "light"
     },
     "output_type": "display_data"
    }
   ],
   "source": [
    "\n",
    "import matplotlib.pyplot as plt\n",
    "fig, ax = plt.subplots()\n",
    "for irand in range(10):\n",
    "    ax.scatter(x[:],u_pred[:,0,irand],s=10)\n",
    "    ax.scatter(x[:],u_pred[:,1,irand],s=10)\n",
    "    ax.scatter(x[:],u_pred[:,2,irand],s=10)\n",
    "ax.plot(Exact[:,0],Exact[:,1],color='black')\n",
    "ax.plot(Exact[:,0],Exact[:,2],color='black')\n",
    "ax.plot(Exact[:,0],Exact[:,3],color='black')\n",
    "ax.set_xlim(0.0, 1.0)\n",
    "#ax.set_ylim(0.2, 1.2)\n",
    "plt.savefig('Sod_lam_1.eps', format='eps')\n",
    "plt.show()\n",
    "u_out = np.zeros((100,4,20))\n",
    "for i in range(5):\n",
    "    u_out[:,0,i] = x[:]\n",
    "u_out[:,1:3,:] = u_pred[:,0:2,:]\n",
    "    "
   ]
  },
  {
   "cell_type": "code",
   "execution_count": 87,
   "metadata": {
    "scrolled": true
   },
   "outputs": [
    {
     "data": {
      "image/png": "[encoded data removed]",
      "text/plain": [
       "<Figure size 432x288 with 1 Axes>"
      ]
     },
     "metadata": {
      "needs_background": "light"
     },
     "output_type": "display_data"
    }
   ],
   "source": [
    "import matplotlib.pyplot as plt\n",
    "fig, ax = plt.subplots()\n",
    "for irand in range(10):\n",
    "    ax.scatter(x[:],u_pred[:,0,irand],s=10)\n",
    "    ax.scatter(x[:],u_pred[:,1,irand],s=10)\n",
    "    ax.scatter(x[:],u_pred[:,2,irand],s=10)\n",
    "ax.plot(Exact[:,0],Exact[:,1],color='black')\n",
    "ax.plot(Exact[:,0],Exact[:,2],color='black')\n",
    "ax.plot(Exact[:,0],Exact[:,3],color='black')\n",
    "ax.set_xlim(0.0, 1.0)\n",
    "#ax.set_ylim(0.2, 1.2)\n",
    "plt.savefig('Sod_PINNS_WE_rh.eps', format='eps')\n",
    "plt.show()\n",
    "u_out = np.zeros((100,4,20))\n",
    "for i in range(10):\n",
    "    u_out[:,0,i] = x[:]\n",
    "u_out[:,1:3,:] = u_pred[:,0:2,:]\n",
    "    "
   ]
  },
  {
   "cell_type": "code",
   "execution_count": 23,
   "metadata": {
    "scrolled": true
   },
   "outputs": [
    {
     "data": {
      "image/png": "[encoded data removed]",
      "text/plain": [
       "<Figure size 432x288 with 1 Axes>"
      ]
     },
     "metadata": {
      "needs_background": "light"
     },
     "output_type": "display_data"
    },
    {
     "ename": "ValueError",
     "evalue": "could not broadcast input array from shape (100,2,20) into shape (100,2,10)",
     "output_type": "error",
     "traceback": [
      "\u001b[0;31m---------------------------------------------------------------------------\u001b[0m",
      "\u001b[0;31mValueError\u001b[0m                                Traceback (most recent call last)",
      "\u001b[0;32m/tmp/ipykernel_62503/3087155072.py\u001b[0m in \u001b[0;36m<module>\u001b[0;34m\u001b[0m\n\u001b[1;32m     14\u001b[0m \u001b[0;32mfor\u001b[0m \u001b[0mi\u001b[0m \u001b[0;32min\u001b[0m \u001b[0mrange\u001b[0m\u001b[0;34m(\u001b[0m\u001b[0;36m10\u001b[0m\u001b[0;34m)\u001b[0m\u001b[0;34m:\u001b[0m\u001b[0;34m\u001b[0m\u001b[0;34m\u001b[0m\u001b[0m\n\u001b[1;32m     15\u001b[0m     \u001b[0mu_out\u001b[0m\u001b[0;34m[\u001b[0m\u001b[0;34m:\u001b[0m\u001b[0;34m,\u001b[0m\u001b[0;36m0\u001b[0m\u001b[0;34m,\u001b[0m\u001b[0mi\u001b[0m\u001b[0;34m]\u001b[0m \u001b[0;34m=\u001b[0m \u001b[0mx\u001b[0m\u001b[0;34m[\u001b[0m\u001b[0;34m:\u001b[0m\u001b[0;34m]\u001b[0m\u001b[0;34m\u001b[0m\u001b[0;34m\u001b[0m\u001b[0m\n\u001b[0;32m---> 16\u001b[0;31m \u001b[0mu_out\u001b[0m\u001b[0;34m[\u001b[0m\u001b[0;34m:\u001b[0m\u001b[0;34m,\u001b[0m\u001b[0;36m1\u001b[0m\u001b[0;34m:\u001b[0m\u001b[0;36m3\u001b[0m\u001b[0;34m,\u001b[0m\u001b[0;34m:\u001b[0m\u001b[0;34m]\u001b[0m \u001b[0;34m=\u001b[0m \u001b[0mu_pred\u001b[0m\u001b[0;34m[\u001b[0m\u001b[0;34m:\u001b[0m\u001b[0;34m,\u001b[0m\u001b[0;36m0\u001b[0m\u001b[0;34m:\u001b[0m\u001b[0;36m2\u001b[0m\u001b[0;34m,\u001b[0m\u001b[0;34m:\u001b[0m\u001b[0;34m]\u001b[0m\u001b[0;34m\u001b[0m\u001b[0;34m\u001b[0m\u001b[0m\n\u001b[0m\u001b[1;32m     17\u001b[0m \u001b[0;34m\u001b[0m\u001b[0m\n",
      "\u001b[0;31mValueError\u001b[0m: could not broadcast input array from shape (100,2,20) into shape (100,2,10)"
     ]
    }
   ],
   "source": [
    "import matplotlib.pyplot as plt\n",
    "fig, ax = plt.subplots()\n",
    "ax.scatter(x[:],u_pred[:,0,11],s=10)\n",
    "ax.scatter(x[:],u_pred[:,1,11],s=10)\n",
    "ax.scatter(x[:],u_pred[:,2,11],s=10)\n",
    "ax.plot(Exact[:,0],Exact[:,1],color='black')\n",
    "ax.plot(Exact[:,0],Exact[:,2],color='black')\n",
    "ax.plot(Exact[:,0],Exact[:,3],color='black')\n",
    "ax.set_xlim(0.0, 1.0)\n",
    "#ax.set_ylim(0.2, 1.2)\n",
    "#plt.savefig('Sod_PINNS-WE.eps', format='eps')\n",
    "plt.show()\n",
    "u_out = np.zeros((100,4,10))\n",
    "for i in range(10):\n",
    "    u_out[:,0,i] = x[:]\n",
    "u_out[:,1:3,:] = u_pred[:,0:2,:]\n",
    "    "
   ]
  },
  {
   "cell_type": "code",
   "execution_count": 33,
   "metadata": {},
   "outputs": [
    {
     "data": {
      "text/plain": [
       "array([0.02671362, 0.02789683, 0.02908005, ..., 1.19560583, 1.19735798,\n",
       "       1.19911014])"
      ]
     },
     "execution_count": 33,
     "metadata": {},
     "output_type": "execute_result"
    }
   ],
   "source": [
    "Exact = np.loadtxt('sode.dat')\n",
    "Exact[:,0]"
   ]
  },
  {
   "cell_type": "code",
   "execution_count": 68,
   "metadata": {},
   "outputs": [
    {
     "data": {
      "text/plain": [
       "1.0113263130187988"
      ]
     },
     "execution_count": 68,
     "metadata": {},
     "output_type": "execute_result"
    }
   ],
   "source": [
    "np.max(u_pred[:,:,:])"
   ]
  },
  {
   "cell_type": "code",
   "execution_count": 43,
   "metadata": {},
   "outputs": [
    {
     "ename": "ValueError",
     "evalue": "cannot convert float NaN to integer",
     "output_type": "error",
     "traceback": [
      "\u001b[0;31m---------------------------------------------------------------------------\u001b[0m",
      "\u001b[0;31mValueError\u001b[0m                                Traceback (most recent call last)",
      "\u001b[0;32m/tmp/ipykernel_2526203/1757507447.py\u001b[0m in \u001b[0;36m<module>\u001b[0;34m\u001b[0m\n\u001b[0;32m----> 1\u001b[0;31m \u001b[0mnp\u001b[0m\u001b[0;34m.\u001b[0m\u001b[0msavetxt\u001b[0m\u001b[0;34m(\u001b[0m\u001b[0;34m'data_Sod_PINNs_WE_S_RH_Cons.txt'\u001b[0m\u001b[0;34m,\u001b[0m \u001b[0mu_pred\u001b[0m\u001b[0;34m.\u001b[0m\u001b[0mreshape\u001b[0m\u001b[0;34m(\u001b[0m\u001b[0;34m(\u001b[0m\u001b[0mu_pred\u001b[0m\u001b[0;34m.\u001b[0m\u001b[0mshape\u001b[0m\u001b[0;34m[\u001b[0m\u001b[0;36m0\u001b[0m\u001b[0;34m]\u001b[0m\u001b[0;34m,\u001b[0m \u001b[0;34m-\u001b[0m\u001b[0;36m1\u001b[0m\u001b[0;34m)\u001b[0m\u001b[0;34m)\u001b[0m\u001b[0;34m,\u001b[0m \u001b[0mfmt\u001b[0m\u001b[0;34m=\u001b[0m\u001b[0;34m'%d'\u001b[0m\u001b[0;34m)\u001b[0m\u001b[0;34m\u001b[0m\u001b[0;34m\u001b[0m\u001b[0m\n\u001b[0m",
      "\u001b[0;32m<__array_function__ internals>\u001b[0m in \u001b[0;36msavetxt\u001b[0;34m(*args, **kwargs)\u001b[0m\n",
      "\u001b[0;32m/usr/lib/python3/dist-packages/numpy/lib/npyio.py\u001b[0m in \u001b[0;36msavetxt\u001b[0;34m(fname, X, fmt, delimiter, newline, header, footer, comments, encoding)\u001b[0m\n\u001b[1;32m   1433\u001b[0m             \u001b[0;32mfor\u001b[0m \u001b[0mrow\u001b[0m \u001b[0;32min\u001b[0m \u001b[0mX\u001b[0m\u001b[0;34m:\u001b[0m\u001b[0;34m\u001b[0m\u001b[0;34m\u001b[0m\u001b[0m\n\u001b[1;32m   1434\u001b[0m                 \u001b[0;32mtry\u001b[0m\u001b[0;34m:\u001b[0m\u001b[0;34m\u001b[0m\u001b[0;34m\u001b[0m\u001b[0m\n\u001b[0;32m-> 1435\u001b[0;31m                     \u001b[0mv\u001b[0m \u001b[0;34m=\u001b[0m \u001b[0mformat\u001b[0m \u001b[0;34m%\u001b[0m \u001b[0mtuple\u001b[0m\u001b[0;34m(\u001b[0m\u001b[0mrow\u001b[0m\u001b[0;34m)\u001b[0m \u001b[0;34m+\u001b[0m \u001b[0mnewline\u001b[0m\u001b[0;34m\u001b[0m\u001b[0;34m\u001b[0m\u001b[0m\n\u001b[0m\u001b[1;32m   1436\u001b[0m                 \u001b[0;32mexcept\u001b[0m \u001b[0mTypeError\u001b[0m \u001b[0;32mas\u001b[0m \u001b[0me\u001b[0m\u001b[0;34m:\u001b[0m\u001b[0;34m\u001b[0m\u001b[0;34m\u001b[0m\u001b[0m\n\u001b[1;32m   1437\u001b[0m                     raise TypeError(\"Mismatch between array dtype ('%s') and \"\n",
      "\u001b[0;31mValueError\u001b[0m: cannot convert float NaN to integer"
     ]
    }
   ],
   "source": [
    "np.savetxt('data_Sod_PINNs_WE_S_RH_Cons.txt', u_pred.reshape((u_pred.shape[0], -1)), fmt='%d')"
   ]
  },
  {
   "cell_type": "code",
   "execution_count": 346,
   "metadata": {},
   "outputs": [
    {
     "data": {
      "image/png": "[encoded data removed]",
      "text/plain": [
       "<Figure size 432x288 with 1 Axes>"
      ]
     },
     "metadata": {
      "needs_background": "light"
     },
     "output_type": "display_data"
    }
   ],
   "source": [
    "fig,ax = plt.subplots()\n",
    "x = np.linspace(0,1,100)\n",
    "#ax.plot(x,np.max([0.1-x,np.zeros_like(x)],axis=0))\n",
    "#ax.plot(x,np.exp(100*(0.1-x))/ np.exp(100*(0.1)))\n",
    "#ax.plot(x,np.exp(100*(-x)))\n",
    "ax.plot(x,np.exp(100*(x-0.1)))\n",
    "plt.show()"
   ]
  },
  {
   "cell_type": "code",
   "execution_count": 322,
   "metadata": {},
   "outputs": [
    {
     "data": {
      "text/plain": [
       "array([0.1       , 0.08989899, 0.07979798, 0.06969697, 0.05959596,\n",
       "       0.04949495, 0.03939394, 0.02929293, 0.01919192, 0.00909091,\n",
       "       0.        , 0.        , 0.        , 0.        , 0.        ,\n",
       "       0.        , 0.        , 0.        , 0.        , 0.        ,\n",
       "       0.        , 0.        , 0.        , 0.        , 0.        ,\n",
       "       0.        , 0.        , 0.        , 0.        , 0.        ,\n",
       "       0.        , 0.        , 0.        , 0.        , 0.        ,\n",
       "       0.        , 0.        , 0.        , 0.        , 0.        ,\n",
       "       0.        , 0.        , 0.        , 0.        , 0.        ,\n",
       "       0.        , 0.        , 0.        , 0.        , 0.        ,\n",
       "       0.        , 0.        , 0.        , 0.        , 0.        ,\n",
       "       0.        , 0.        , 0.        , 0.        , 0.        ,\n",
       "       0.        , 0.        , 0.        , 0.        , 0.        ,\n",
       "       0.        , 0.        , 0.        , 0.        , 0.        ,\n",
       "       0.        , 0.        , 0.        , 0.        , 0.        ,\n",
       "       0.        , 0.        , 0.        , 0.        , 0.        ,\n",
       "       0.        , 0.        , 0.        , 0.        , 0.        ,\n",
       "       0.        , 0.        , 0.        , 0.        , 0.        ,\n",
       "       0.        , 0.        , 0.        , 0.        , 0.        ,\n",
       "       0.        , 0.        , 0.        , 0.        , 0.        ])"
      ]
     },
     "execution_count": 322,
     "metadata": {},
     "output_type": "execute_result"
    }
   ],
   "source": [
    "np.max([0.1-x,np.zeros_like(x)],axis=0)"
   ]
  },
  {
   "cell_type": "code",
   "execution_count": 60,
   "metadata": {},
   "outputs": [],
   "source": [
    "xp= x.flatten()[:,None]\n",
    "rhop= u_pred[:,0].flatten()[:,None]\n",
    "up= u_pred[:,1].flatten()[:,None]\n",
    "pp= u_pred[:,2].flatten()[:,None]\n",
    "uxy= np.hstack((xp,rhop,up,pp))    \n",
    "np.savetxt('shockCrho.dat', uxy)"
   ]
  },
  {
   "cell_type": "code",
   "execution_count": null,
   "metadata": {},
   "outputs": [],
   "source": [
    "\n"
   ]
  },
  {
   "cell_type": "code",
   "execution_count": 61,
   "metadata": {},
   "outputs": [
    {
     "data": {
      "image/png": "[encoded data removed]",
      "text/plain": [
       "<Figure size 640x480 with 1 Axes>"
      ]
     },
     "metadata": {},
     "output_type": "display_data"
    }
   ],
   "source": [
    "# first 15000step conservation\n",
    "import matplotlib.pyplot as plt\n",
    "plt.figure()\n",
    "plt.scatter(x[:],u_pred[:,0])\n",
    "plt.scatter(x[:],u_pred[:,1])\n",
    "plt.scatter(x[:],u_pred[:,2])\n",
    "plt.show()"
   ]
  },
  {
   "cell_type": "code",
   "execution_count": 66,
   "metadata": {},
   "outputs": [
    {
     "data": {
      "image/png": "[encoded data removed]",
      "text/plain": [
       "<Figure size 640x480 with 1 Axes>"
      ]
     },
     "metadata": {},
     "output_type": "display_data"
    }
   ],
   "source": [
    "# first 15000step non-conservation\n",
    "import matplotlib.pyplot as plt\n",
    "plt.figure()\n",
    "plt.scatter(x[:],u_pred[:,0])\n",
    "plt.scatter(x[:],u_pred[:,1])\n",
    "plt.scatter(x[:],u_pred[:,2])\n",
    "plt.show()"
   ]
  },
  {
   "cell_type": "code",
   "execution_count": null,
   "metadata": {},
   "outputs": [],
   "source": []
  },
  {
   "cell_type": "code",
   "execution_count": null,
   "metadata": {},
   "outputs": [],
   "source": []
  }
 ],
 "metadata": {
  "@webio": {
   "lastCommId": null,
   "lastKernelId": null
  },
  "interpreter": {
   "hash": "31f2aee4e71d21fbe5cf8b01ff0e069b9275f58929596ceb00d14d90e3e16cd6"
  },
  "kernelspec": {
   "display_name": "Python 3 (ipykernel)",
   "language": "python",
   "name": "python3"
  },
  "language_info": {
   "codemirror_mode": {
    "name": "ipython",
    "version": 3
   },
   "file_extension": ".py",
   "mimetype": "text/x-python",
   "name": "python",
   "nbconvert_exporter": "python",
   "pygments_lexer": "ipython3",
   "version": "3.10.6"
  },
  "latex_envs": {
   "LaTeX_envs_menu_present": true,
   "autoclose": false,
   "autocomplete": true,
   "bibliofile": "biblio.bib",
   "cite_by": "apalike",
   "current_citInitial": 1,
   "eqLabelWithNumbers": true,
   "eqNumInitial": 1,
   "hotkeys": {
    "equation": "Ctrl-E",
    "itemize": "Ctrl-I"
   },
   "labels_anchors": false,
   "latex_user_defs": false,
   "report_style_numbering": false,
   "user_envs_cfg": false
  },
  "toc": {
   "base_numbering": 1,
   "nav_menu": {},
   "number_sections": true,
   "sideBar": true,
   "skip_h1_title": false,
   "title_cell": "Table of Contents",
   "title_sidebar": "Contents",
   "toc_cell": false,
   "toc_position": {},
   "toc_section_display": true,
   "toc_window_display": false
  },
  "varInspector": {
   "cols": {
    "lenName": 16,
    "lenType": 16,
    "lenVar": 40
   },
   "kernels_config": {
    "python": {
     "delete_cmd_postfix": "",
     "delete_cmd_prefix": "del ",
     "library": "var_list.py",
     "varRefreshCmd": "print(var_dic_list())"
    },
    "r": {
     "delete_cmd_postfix": ") ",
     "delete_cmd_prefix": "rm(",
     "library": "var_list.r",
     "varRefreshCmd": "cat(var_dic_list()) "
    }
   },
   "types_to_exclude": [
    "module",
    "function",
    "builtin_function_or_method",
    "instance",
    "_Feature"
   ],
   "window_display": false
  }
 },
 "nbformat": 4,
 "nbformat_minor": 2
}
