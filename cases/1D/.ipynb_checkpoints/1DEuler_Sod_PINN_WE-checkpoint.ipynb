{
 "cells": [
  {
   "cell_type": "markdown",
   "metadata": {},
   "source": [
    "# Solving Sod Problem with PINN-WE\n",
    "\n",
    "\n",
    "* This code is modified from the code https://github.com/alexpapados/Physics-Informed-Deep-Learning-Solid-and-Fluid-Mechanics\n",
    "\n",
    "* The paper about this code can be reffed to https://www.researchgate.net/publication/359480166_Discontinuity_Computing_with_Physics-Informed_Neural_Network\n",
    "\n",
    "* For strong shock waves, PINN-WE can let you get a discontinuous result quickly and sharply. But it can not guarantee the result must be physical. You can try to change the random seed or learning rate to get a different result. In the paper, we show the best result of some tests to demonstrate that PINN-WE has the potential ability to handle a non-linear discontinuous problem.\n",
    "\n",
    "* Now I am doing further research about this phenomenon. You can follow the work:  https://www.researchgate.net/publication/362590640_Flux_conservation_constraint_to_Physics-Informed_Neural_Network_for_Euler_equations\n",
    "\n",
    "* I have a preliminary conclusion in there.\n"
   ]
  },
  {
   "cell_type": "code",
   "execution_count": 10,
   "metadata": {},
   "outputs": [],
   "source": [
    "def train(epoch):\n",
    "    model.train()\n",
    "    model.it = epoch\n",
    "    tocs1 = time.time()\n",
    "    def closure():\n",
    "        optimizer.zero_grad()                                                     \n",
    "        loss_pde = model.loss_pde(x_int_train)                                    \n",
    "        loss_ic = model.loss_ic(x_ic_train, rho_ic_train,u_ic_train,p_ic_train)   \n",
    "        loss = loss_pde + 10*loss_ic                                          \n",
    "        \n",
    "      #  if (loss < 0.0001):\n",
    "      #return\n",
    "        print(f'epoch {epoch} loss_pde:{loss_pde:.8f}, loss_ic:{loss_ic:.8f}')\n",
    "       # model.it = model.it + 1\n",
    "        # Print total loss\n",
    "       # outputfile = open('loss_history_sod.txt','a+')\n",
    "       # print(f'{model.it}  {loss_pde:.6f}  {loss_ic:.6f}  {loss:.6f}',file=outputfile)\n",
    "       # outputfile.close()\n",
    "        loss.backward()\n",
    "        return loss\n",
    "\n",
    "    # Optimize loss function\n",
    "    loss = optimizer.step(closure)\n",
    "    loss_value = loss.item() if not isinstance(loss, float) else loss\n",
    "    # Print total loss\n",
    "    print(f'epoch {epoch}: loss {loss_value:.6f}')\n",
    " "
   ]
  },
  {
   "cell_type": "code",
   "execution_count": 11,
   "metadata": {},
   "outputs": [
    {
     "name": "stdout",
     "output_type": "stream",
     "text": [
      "Start training...\n"
     ]
    }
   ],
   "source": [
    "import torch\n",
    "import torch.nn as nn\n",
    "import numpy as np\n",
    "import time\n",
    "import scipy.io\n",
    "# Seeds\n",
    "torch.manual_seed(12)\n",
    "np.random.seed(12)\n",
    "\n",
    "   \n",
    "# Calculate gradients using torch.autograd.grad\n",
    "def gradients(outputs, inputs):\n",
    "    return torch.autograd.grad(outputs, inputs,grad_outputs=torch.ones_like(outputs), create_graph=True)\n",
    "\n",
    "# Convert torch tensor into np.array\n",
    "def to_numpy(input):\n",
    "    if isinstance(input, torch.Tensor):\n",
    "        return input.detach().cpu().numpy()\n",
    "    elif isinstance(input, np.ndarray):\n",
    "        return input\n",
    "    else:\n",
    "        raise TypeError('Unknown type of input, expected torch.Tensor or ' \\\n",
    "                        'np.ndarray, but got {}'.format(type(input)))\n",
    "\n",
    "# Initial conditions\n",
    "def IC(x):\n",
    "    N = len(x)\n",
    "    rho_init = np.zeros((x.shape[0]))                                              \n",
    "    u_init = np.zeros((x.shape[0]))                                                \n",
    "    p_init = np.zeros((x.shape[0]))                                                \n",
    "\n",
    "    # rho, p - initial condition\n",
    "    for i in range(N):\n",
    "        if (x[i] <= 0.5):\n",
    "            rho_init[i] = 1.0\n",
    "            p_init[i] = 1.0\n",
    "        else:\n",
    "            rho_init[i] = 0.125\n",
    "            p_init[i] = 0.1\n",
    "\n",
    "    return rho_init, u_init, p_init\n",
    "\n",
    "# Generate Neural Network\n",
    "class DNN(nn.Module):\n",
    "\n",
    "    def __init__(self):\n",
    "        super(DNN, self).__init__()\n",
    "        self.net = nn.Sequential()                                                  \n",
    "        self.net.add_module('Linear_layer_1', nn.Linear(2, 30))                     \n",
    "        self.net.add_module('Tanh_layer_1', nn.Tanh())                              \n",
    "\n",
    "        for num in range(2, 5):                                                     \n",
    "            self.net.add_module('Linear_layer_%d' % (num), nn.Linear(30, 30))       \n",
    "            self.net.add_module('Tanh_layer_%d' % (num), nn.Tanh())                 \n",
    "        self.net.add_module('Linear_layer_final', nn.Linear(30, 3))                 \n",
    "\n",
    "    # Forward Feed\n",
    "    def forward(self, x):\n",
    "        return self.net(x)\n",
    "\n",
    "    # Loss function for PDE\n",
    "    def loss_pde(self, x):\n",
    "        y = self.net(x)                                                \n",
    "        rho,p,u = y[:, 0:1], y[:, 1:2], y[:, 2:]\n",
    "        \n",
    "        U2 = rho*u\n",
    "        U3 = 0.5*rho*u**2 + p/0.4\n",
    "        \n",
    "        #F1 = U2\n",
    "        F2 = rho*u**2+p\n",
    "        F3 = u*(U3 + p)\n",
    "        \n",
    "        gamma = 1.4                                                    \n",
    "\n",
    "        # Gradients and partial derivatives\n",
    "        drho_g = gradients(rho, x)[0]                                  \n",
    "        rho_t, rho_x = drho_g[:, :1], drho_g[:, 1:]             \n",
    "\n",
    "\n",
    "        du_g = gradients(u, x)[0]                                      \n",
    "        u_t, u_x = du_g[:, :1], du_g[:, 1:]                            \n",
    "\n",
    "       # dp_g = gradients(p, x)[0]                                     \n",
    "       # p_t, p_x = dp_g[:, :1], dp_g[:, 1:]                           \n",
    "        \n",
    "        dU2_g = gradients(U2, x)[0]\n",
    "        U2_t,U2_x = dU2_g[:,:1], dU2_g[:,1:]\n",
    "        dU3_g = gradients(U3, x)[0]\n",
    "        U3_t,U3_x = dU3_g[:,:1], dU3_g[:,1:]\n",
    "        dF2_g = gradients(F2, x)[0]\n",
    "        F2_t,F2_x = dF2_g[:,:1], dF2_g[:,1:]\n",
    "        dF3_g = gradients(F3, x)[0]\n",
    "        F3_t,F3_x = dF3_g[:,:1], dF3_g[:,1:]\n",
    "\n",
    "        d = 0.1*(abs(u_x)-u_x)  + 1\n",
    "     \n",
    "        f = (((rho_t + U2_x)/d)**2).mean() + \\\n",
    "            (((U2_t  + F2_x)/d)**2).mean() + \\\n",
    "            (((U3_t  + F3_x)/d)**2).mean() #+\\\n",
    "           # ((rho_t).mean())**2  +\\\n",
    "           # ((U3_t).mean())**2 \n",
    "    \n",
    "        return f\n",
    "\n",
    "    # Loss function for initial condition\n",
    "    def loss_ic(self, x_ic, rho_ic, u_ic, p_ic):\n",
    "        y_ic = self.net(x_ic)                                                      \n",
    "        rho_ic_nn, p_ic_nn,u_ic_nn = y_ic[:, 0], y_ic[:, 1], y_ic[:, 2]            \n",
    "\n",
    "        # Loss function for the initial condition\n",
    "        loss_ics = ((u_ic_nn - u_ic) ** 2).mean() + \\\n",
    "               ((rho_ic_nn- rho_ic) ** 2).mean()  + \\\n",
    "               ((p_ic_nn - p_ic) ** 2).mean()\n",
    "\n",
    "        return loss_ics\n",
    "    \n",
    "device = torch.device('cuda')         # change to cpu if you dont have a cuda device                              \n",
    "num_x = 100                                                        \n",
    "num_t = 200                                                        \n",
    "num_i_train = 1000                                                 \n",
    "num_f_train = 10000                                                \n",
    "x = np.linspace(0.0, 1.0, num_x)                                   \n",
    "t = np.linspace(0, 0.2, num_t)                                     \n",
    "t_grid, x_grid = np.meshgrid(t, x)                                 \n",
    "T = t_grid.flatten()[:, None]                                      \n",
    "X = x_grid.flatten()[:, None]                                      \n",
    "id_f = np.random.choice(num_x*num_t, num_f_train, replace=False)   \n",
    "\n",
    "x_int = X[:, 0][id_f, None]                                        \n",
    "t_int = T[:, 0][id_f, None]                                        \n",
    "x_int_train = np.hstack((t_int, x_int))                            \n",
    "\n",
    "x = np.linspace(0.0, 1.0, 1000)                                   \n",
    "t = np.linspace(0, 0.2, 100)                                       \n",
    "t_grid, x_grid = np.meshgrid(t, x)                                 \n",
    "id_ic = np.random.choice(1000, 1000, replace=False)   \n",
    "T = t_grid.flatten()[:, None]                                      \n",
    "X = x_grid.flatten()[:, None]                                      \n",
    "x_ic = x_grid[id_ic, 0][:, None]                                   \n",
    "t_ic = t_grid[id_ic, 0][:, None]                                   \n",
    "x_ic_train = np.hstack((t_ic, x_ic))                               \n",
    "\n",
    "rho_ic_train, u_ic_train, p_ic_train = IC(x_ic)                    \n",
    "x_ic_train = torch.tensor(x_ic_train, dtype=torch.float32).to(device)\n",
    "x_int_train = torch.tensor(x_int_train, requires_grad=True, dtype=torch.float32).to(device)\n",
    "\n",
    "rho_ic_train = torch.tensor(rho_ic_train, dtype=torch.float32).to(device)\n",
    "u_ic_train = torch.tensor(u_ic_train, dtype=torch.float32).to(device)\n",
    "p_ic_train = torch.tensor(p_ic_train, dtype=torch.float32).to(device)\n",
    "\n",
    "model = DNN().to(device)\n",
    "\n",
    "print('Start training...')\n",
    "\n",
    "\n",
    "lr = 0.001                                                           # Learning rate\n",
    "optimizer = torch.optim.Adam(model.parameters(), lr=lr)"
   ]
  },
  {
   "cell_type": "code",
   "execution_count": null,
   "metadata": {
    "scrolled": true
   },
   "outputs": [],
   "source": [
    "epoch = 0\n",
    "epochi = epoch\n",
    "\n",
    "epochs = 8000\n",
    "tic = time.time()\n",
    "for epoch in range(1+epochi, epochs+epochi):\n",
    "    train(epoch)\n",
    "toc = time.time()\n",
    "print(f'Total training time: {toc - tic}')\n"
   ]
  },
  {
   "cell_type": "code",
   "execution_count": 4,
   "metadata": {},
   "outputs": [],
   "source": [
    "lr = 0.0001                                                          \n",
    "optimizer = torch.optim.LBFGS(model.parameters(),lr=0.01,max_iter=20)"
   ]
  },
  {
   "cell_type": "code",
   "execution_count": null,
   "metadata": {
    "scrolled": true
   },
   "outputs": [],
   "source": [
    "\n",
    "epochi = epoch\n",
    "\n",
    "epochs = 3000\n",
    "tic = time.time()\n",
    "for epoch in range(epochi, epochs+epochi):\n",
    "    train(epoch)\n",
    "toc = time.time()\n",
    "print(f'Total training time: {toc - tic}')"
   ]
  },
  {
   "cell_type": "code",
   "execution_count": 17,
   "metadata": {},
   "outputs": [],
   "source": [
    "lr = 0.0001                                                           # Learning rate\n",
    "optimizer = torch.optim.LBFGS(model.parameters(),lr=0.1,max_iter=20)"
   ]
  },
  {
   "cell_type": "code",
   "execution_count": null,
   "metadata": {
    "scrolled": true
   },
   "outputs": [],
   "source": [
    "\n",
    "epochi = epoch\n",
    "\n",
    "epochs = 2000\n",
    "tic = time.time()\n",
    "for epoch in range(epochi, epochs+epochi):\n",
    "    train(epoch)\n",
    "toc = time.time()\n",
    "print(f'Total training time: {toc - tic}')"
   ]
  },
  {
   "cell_type": "code",
   "execution_count": 19,
   "metadata": {},
   "outputs": [],
   "source": [
    "x = np.linspace(0.0, 1.0, 100)                                   \n",
    "t = np.linspace(0.2, 0.2, 1)                                     \n",
    "t_grid, x_grid = np.meshgrid(t, x)                               \n",
    "T = t_grid.flatten()[:, None]                                    \n",
    "X = x_grid.flatten()[:, None]                                    \n",
    "x_test = np.hstack((T, X))                                       \n",
    "x_test = torch.tensor(x_test, dtype=torch.float32).to(device)\n",
    "u_pred = to_numpy(model(x_test))"
   ]
  },
  {
   "cell_type": "code",
   "execution_count": 20,
   "metadata": {
    "scrolled": true
   },
   "outputs": [
    {
     "data": {
      "image/png": "[encoded data removed]",
      "text/plain": [
       "<Figure size 640x480 with 1 Axes>"
      ]
     },
     "metadata": {},
     "output_type": "display_data"
    }
   ],
   "source": [
    "import matplotlib.pyplot as plt\n",
    "plt.figure()\n",
    "plt.scatter(x[:],u_pred[:,0])\n",
    "plt.scatter(x[:],u_pred[:,1])\n",
    "plt.scatter(x[:],u_pred[:,2])\n",
    "plt.show()\n"
   ]
  },
  {
   "cell_type": "code",
   "execution_count": 442,
   "metadata": {},
   "outputs": [],
   "source": [
    "xp= x.flatten()[:,None]\n",
    "rhop= u_pred[:,0].flatten()[:,None]\n",
    "up= u_pred[:,1].flatten()[:,None]\n",
    "pp= u_pred[:,2].flatten()[:,None]\n",
    "uxy= np.hstack((xp,rhop,up,pp))    \n",
    "np.savetxt('shockCrho.dat', uxy)"
   ]
  },
  {
   "cell_type": "code",
   "execution_count": 65,
   "metadata": {},
   "outputs": [
    {
     "data": {
      "image/png": "[encoded data removed]",
      "text/plain": [
       "<Figure size 640x480 with 1 Axes>"
      ]
     },
     "metadata": {},
     "output_type": "display_data"
    }
   ],
   "source": [
    "# first 15000step conservation\n",
    "import matplotlib.pyplot as plt\n",
    "plt.figure()\n",
    "plt.scatter(x[:],u_pred[:,0])\n",
    "plt.scatter(x[:],u_pred[:,1])\n",
    "plt.scatter(x[:],u_pred[:,2])\n",
    "plt.show()"
   ]
  },
  {
   "cell_type": "code",
   "execution_count": 66,
   "metadata": {},
   "outputs": [
    {
     "data": {
      "image/png": "[encoded data removed]",
      "text/plain": [
       "<Figure size 640x480 with 1 Axes>"
      ]
     },
     "metadata": {},
     "output_type": "display_data"
    }
   ],
   "source": [
    "# first 15000step non-conservation\n",
    "import matplotlib.pyplot as plt\n",
    "plt.figure()\n",
    "plt.scatter(x[:],u_pred[:,0])\n",
    "plt.scatter(x[:],u_pred[:,1])\n",
    "plt.scatter(x[:],u_pred[:,2])\n",
    "plt.show()"
   ]
  },
  {
   "cell_type": "code",
   "execution_count": null,
   "metadata": {},
   "outputs": [],
   "source": []
  },
  {
   "cell_type": "code",
   "execution_count": null,
   "metadata": {},
   "outputs": [],
   "source": []
  }
 ],
 "metadata": {
  "@webio": {
   "lastCommId": null,
   "lastKernelId": null
  },
  "interpreter": {
   "hash": "31f2aee4e71d21fbe5cf8b01ff0e069b9275f58929596ceb00d14d90e3e16cd6"
  },
  "kernelspec": {
   "display_name": "Python 3",
   "language": "python",
   "name": "python3"
  },
  "language_info": {
   "codemirror_mode": {
    "name": "ipython",
    "version": 3
   },
   "file_extension": ".py",
   "mimetype": "text/x-python",
   "name": "python",
   "nbconvert_exporter": "python",
   "pygments_lexer": "ipython3",
   "version": "3.8.10"
  },
  "latex_envs": {
   "LaTeX_envs_menu_present": true,
   "autoclose": false,
   "autocomplete": true,
   "bibliofile": "biblio.bib",
   "cite_by": "apalike",
   "current_citInitial": 1,
   "eqLabelWithNumbers": true,
   "eqNumInitial": 1,
   "hotkeys": {
    "equation": "Ctrl-E",
    "itemize": "Ctrl-I"
   },
   "labels_anchors": false,
   "latex_user_defs": false,
   "report_style_numbering": false,
   "user_envs_cfg": false
  },
  "toc": {
   "base_numbering": 1,
   "nav_menu": {},
   "number_sections": true,
   "sideBar": true,
   "skip_h1_title": false,
   "title_cell": "Table of Contents",
   "title_sidebar": "Contents",
   "toc_cell": false,
   "toc_position": {},
   "toc_section_display": true,
   "toc_window_display": false
  },
  "varInspector": {
   "cols": {
    "lenName": 16,
    "lenType": 16,
    "lenVar": 40
   },
   "kernels_config": {
    "python": {
     "delete_cmd_postfix": "",
     "delete_cmd_prefix": "del ",
     "library": "var_list.py",
     "varRefreshCmd": "print(var_dic_list())"
    },
    "r": {
     "delete_cmd_postfix": ") ",
     "delete_cmd_prefix": "rm(",
     "library": "var_list.r",
     "varRefreshCmd": "cat(var_dic_list()) "
    }
   },
   "types_to_exclude": [
    "module",
    "function",
    "builtin_function_or_method",
    "instance",
    "_Feature"
   ],
   "window_display": false
  }
 },
 "nbformat": 4,
 "nbformat_minor": 2
}
