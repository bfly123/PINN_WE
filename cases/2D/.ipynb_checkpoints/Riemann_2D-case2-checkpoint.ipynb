{
 "cells": [
  {
   "cell_type": "code",
   "execution_count": 27,
   "metadata": {},
   "outputs": [],
   "source": [
    "# Import libraries\n",
    "import torch\n",
    "import torch.nn as nn\n",
    "import numpy as np\n",
    "import time\n",
    "import scipy.io\n",
    "import matplotlib.pyplot as plt\n",
    "from numpy import arange, meshgrid\n",
    "#\n",
    "from smt.sampling_methods import LHS\n",
    "# Seeds\n",
    "torch.manual_seed(123)\n",
    "np.random.seed(123)\n",
    "def train(epoch):\n",
    "    model.train()\n",
    "    def closure():\n",
    "        optimizer.zero_grad()                                                     # Optimizer\n",
    "        loss_pde = model.loss_pde(x_int_train)                                    # Loss function of PDE\n",
    "        loss_ic = model.loss_ic(x_ic_train, rho_ic_train,u_ic_train,v_ic_train,p_ic_train)   # Loss function of IC\n",
    "        loss = loss_pde + 10*loss_ic                                          # Total loss function G(theta)\n",
    "\n",
    "        # Print iteration, loss of PDE and ICs\n",
    "        print(f'epoch {epoch} loss_pde:{loss_pde:.8f}, loss_ic:{loss_ic:.8f}')\n",
    "        loss.backward()\n",
    "        return loss\n",
    "\n",
    "    # Optimize loss function\n",
    "    loss = optimizer.step(closure)\n",
    "    loss_value = loss.item() if not isinstance(loss, float) else loss\n",
    "    # Print total loss\n",
    "    print(f'epoch {epoch}: loss {loss_value:.6f}')\n",
    "    \n",
    "# Calculate gradients using torch.autograd.grad\n",
    "def gradients(outputs, inputs):\n",
    "    return torch.autograd.grad(outputs, inputs,grad_outputs=torch.ones_like(outputs), create_graph=True)\n",
    "\n",
    "# Convert torch tensor into np.array\n",
    "def to_numpy(input):\n",
    "    if isinstance(input, torch.Tensor):\n",
    "        return input.detach().cpu().numpy()\n",
    "    elif isinstance(input, np.ndarray):\n",
    "        return input\n",
    "    else:\n",
    "        raise TypeError('Unknown type of input, expected torch.Tensor or ' \\\n",
    "                        'np.ndarray, but got {}'.format(type(input)))\n",
    "\n",
    "# Initial conditions\n",
    "def IC(x):\n",
    "    N =x.shape[0]\n",
    "    rho_init = np.zeros((x.shape[0]))                                              # rho - initial condition\n",
    "    u_init = np.zeros((x.shape[0]))                                                # u - initial condition\n",
    "    v_init = np.zeros((x.shape[0]))                                                # u - initial condition\n",
    "    p_init = np.zeros((x.shape[0]))                                                # p - initial condition\n",
    "\n",
    "    # rho, p - initial condition\n",
    "    for i in range(N):\n",
    "        if (x[i][1] <= 0.5 and x[i][2]>=0.5):\n",
    "            rho_init[i] = 1.0\n",
    "            u_init[i] =  -0.6259\n",
    "            v_init[i] = 0.1\n",
    "            p_init[i] = 1\n",
    "        elif(x[i][1] >= 0.5 and x[i][2]>=0.5):\n",
    "            rho_init[i] = 0.5197\n",
    "            u_init[i] = 0.1\n",
    "            v_init[i] = 0.1\n",
    "            p_init[i] = 0.4\n",
    "        elif(x[i][1] <= 0.5 and x[i][2]<=0.5):\n",
    "            rho_init[i] = 0.8\n",
    "            u_init[i] = 0.1\n",
    "            v_init[i] = 0.1\n",
    "            p_init[i] = 1.0\n",
    "        else:\n",
    "            rho_init[i] = 1\n",
    "            u_init[i] = 0.1\n",
    "            v_init[i] = -0.6259\n",
    "            p_init[i] = 1\n",
    "  \n",
    " #   for i in range(N):\n",
    " #       if (x[i][2] <= 0.5 and x[i][1]>=0.5):\n",
    " #           rho_init[i] = 2.0\n",
    " #           u_init[i] =  0.5\n",
    " #           v_init[i] = -0.75\n",
    " #           p_init[i] = 1.0\n",
    " #       elif(x[i][2] >= 0.5 and x[i][1]>=0.5):\n",
    " #           rho_init[i] = 1.0\n",
    " #           u_init[i] = -0.5\n",
    " #           v_init[i] = -0.75\n",
    " #           p_init[i] = 1.0\n",
    " #       elif(x[i][2] <= 0.5 and x[i][1]<=0.5):\n",
    " #           rho_init[i] = 1\n",
    " #           u_init[i] = 0.5\n",
    " #           v_init[i] = 0.75\n",
    " #           p_init[i] = 1.0\n",
    " #       else:\n",
    " #           rho_init[i] = 3\n",
    " #           u_init[i] = -0.5\n",
    " #           v_init[i] = 0.75\n",
    " #           p_init[i] = 1\n",
    "\n",
    "    return rho_init, u_init, v_init,p_init\n",
    "\n",
    "    \n",
    "class DNN(nn.Module):\n",
    "\n",
    "    def __init__(self):\n",
    "        super(DNN, self).__init__()\n",
    "        self.net = nn.Sequential()                                                  # Define neural network\n",
    "        self.net.add_module('Linear_layer_1', nn.Linear(3, 60))                     # First linear layer\n",
    "        self.net.add_module('Tanh_layer_1', nn.Tanh())                              # First activation Layer\n",
    "\n",
    "        for num in range(2, 5):                                                     # Number of layers (2 through 7)\n",
    "            self.net.add_module('Linear_layer_%d' % (num), nn.Linear(60, 60))       # Linear layer\n",
    "            self.net.add_module('Tanh_layer_%d' % (num), nn.Tanh())                 # Activation Layer\n",
    "        self.net.add_module('Linear_layer_final', nn.Linear(60, 4))                 # Output Layer\n",
    "\n",
    "    # Forward Feed\n",
    "    def forward(self, x):\n",
    "        return self.net(x)\n",
    "\n",
    "    # Loss function for PDE\n",
    "    def loss_pde(self, x):\n",
    "        \n",
    "       # yL = self.net(x_intL_train)\n",
    "       # yR = self.net(x_intR_train)\n",
    "       # yU = self.net(x_intU_train)\n",
    "       # yD = self.net(x_intD_train)\n",
    "       # rhoL,pL,uL,vL = yL[:, 0:1], yL[:, 1:2], yL[:, 2:3],yL[:,3:]\n",
    "       # rhoR,pR,uR,vR = yR[:, 0:1], yR[:, 1:2], yR[:, 2:3],yR[:,3:]\n",
    "       # rhoU,pU,uU,vU = yU[:, 0:1], yU[:, 1:2], yU[:, 2:3],yU[:,3:]\n",
    "       # rhoD,pD,uD,vD = yD[:, 0:1], yD[:, 1:2], yD[:, 2:3],yD[:,3:]\n",
    "        y = self.net(x)\n",
    "        gamma = 1.4                                                    # Heat Capacity Ratio\n",
    "        epsilon = 1e-5\n",
    "        rho,p,u,v = y[:, 0:1], y[:, 1:2], y[:, 2:3],y[:,3:]\n",
    "        \n",
    "        rhoE = p/(gamma - 1) +0.5*rho*(u**2+v**2)\n",
    "        \n",
    "        f1 = rho*u\n",
    "        f2 = rho*u*u+p\n",
    "        f3 = rho*u*v\n",
    "        f4 = (rhoE+p)*u\n",
    "        \n",
    "        g1 = rho*v\n",
    "        g2 = rho*v*u\n",
    "        g3 = rho*v*v + p\n",
    "        g4 = (rhoE+p)*v\n",
    "        \n",
    "        drho_g = gradients(rho,x)[0]\n",
    "        U1_t = drho_g[:, :1]\n",
    "        dU2_g = gradients(f1,x)[0]\n",
    "        U2_t = dU2_g[:, :1]\n",
    "        dU3_g = gradients(g1,x)[0]\n",
    "        U3_t = dU3_g[:, :1]\n",
    "        dU4_g = gradients(rhoE,x)[0]\n",
    "        U4_t = dU4_g[:, :1]\n",
    "        \n",
    "        df1_g = gradients(f1, x)[0]                                  # Gradient [rho_t, rho_x]\n",
    "        f1_x = df1_g[:, 1:2]\n",
    "        df2_g = gradients(f2, x)[0]                                      # Gradient [u_t, u_x]\n",
    "        f2_x = df2_g[:, 1:2]\n",
    "        df3_g = gradients(f3, x)[0]                                      # Gradient [u_t, u_x]\n",
    "        f3_x = df3_g[:, 1:2]\n",
    "        df4_g = gradients(f4, x)[0]                                      # Gradient [u_t, u_x]\n",
    "        f4_x = df4_g[:, 1:2]\n",
    "        \n",
    "        dg1_g = gradients(g1, x)[0]                                  # Gradient [rho_t, rho_x]\n",
    "        g1_y = dg1_g[:, 2:3]\n",
    "        dg2_g = gradients(g2, x)[0]                                      # Gradient [u_t, u_x]\n",
    "        g2_y = dg2_g[:, 2:3]\n",
    "        dg3_g = gradients(g3, x)[0]                                      # Gradient [u_t, u_x]\n",
    "        g3_y = dg3_g[:, 2:3]\n",
    "        dg4_g = gradients(g4, x)[0]                                      # Gradient [u_t, u_x]\n",
    "        g4_y = dg4_g[:, 2:3]\n",
    "        \n",
    "        \n",
    "        du_g = gradients(u, x)[0]                                \n",
    "        u_x = du_g[:, 1:2]         \n",
    "        dv_g = gradients(v, x)[0]                    \n",
    "        v_y = dv_g[:, 2:3]         \n",
    "        \n",
    "      #  rho,p,u,v = y[:, 0:1], y[:, 1:2], y[:, 2:3],y[:,3:]\n",
    "      #  gamma = 1.4                                                    # Heat Capacity Ratio\n",
    "      #  epsilon = 1e-5\n",
    "      #  s = torch.log((abs(p)+epsilon)/(abs(rho)+epsilon)**1.4)\n",
    "      #  eta = -rho*s\n",
    "      #  phi1 = -rho*u*s\n",
    "      #  phi2 = -rho*v*s\n",
    "      #  \n",
    "      #  drho_g = gradients(rho, x)[0]                                  # Gradient [rho_t, rho_x]\n",
    "      #  rho_t, rho_x,rho_y = drho_g[:, :1], drho_g[:, 1:2],drho_g[:,2:]\n",
    "      #  du_g = gradients(u, x)[0]                                      # Gradient [u_t, u_x]\n",
    "      #  u_t, u_x, u_y = du_g[:, :1], du_g[:, 1:2], du_g[:,2:]                            # Partial derivatives u_t, u_x\n",
    "      #  dv_g = gradients(v, x)[0]                                      # Gradient [u_t, u_x]\n",
    "      #  v_t, v_x, v_y = dv_g[:, :1], dv_g[:, 1:2], dv_g[:,2:]                            # Partial derivatives u_t, u_x\n",
    "      #  \n",
    "      #  E = p/0.4 + 0.5*rho*(u**2+v**2)\n",
    "      #  EL = pL/0.4 + 0.5*rhoL*(uL**2+vL**2)\n",
    "      #  ER = pR/0.4 + 0.5*rhoR*(uR**2+vR**2)\n",
    "      #  EU = pU/0.4 + 0.5*rhoU*(uU**2+vU**2)\n",
    "      #  ED = pD/0.4 + 0.5*rhoD*(uD**2+vD**2)\n",
    "      #  dE_g = gradients(E, x)[0]                                      # Gradient [u_t, u_x]\n",
    "      #  E_t = dE_g[:, :1]\n",
    "      #  \n",
    "      #  \n",
    "      #  deta_g = gradients(eta, x)[0]                                      # Gradient [p_t, p_x]\n",
    "      #  eta_t, eta_x,eta_y = deta_g[:, :1], deta_g[:, 1:2],deta_g[2:3]                            # Partial derivatives p_t, p_x\n",
    "      #  dphi1_g = gradients(phi1, x)[0]                                      # Gradient [p_t, p_x]\n",
    "      #  dphi2_g = gradients(phi2, x)[0]                                      # Gradient [p_t, p_x]\n",
    "      #  phi1_t, phi1_x,phi1_y = dphi1_g[:, :1], dphi1_g[:, 1:2],dphi1_g[:,2:3]                           # Partial derivatives p_t, p_x\n",
    "      #  phi2_t, phi2_x,phi2_y = dphi2_g[:, :1], dphi2_g[:, 1:2],dphi2_g[:,2:3]                           # Partial derivatives p_t, p_x\n",
    "        \n",
    "        d = np.random.rand()\n",
    "        deltau = u_x + v_y\n",
    "        nab = abs(deltau) - deltau\n",
    "        \n",
    "        #a = np.sqrt(1.4*p/rho)\n",
    "       # q = 0.01*(rho*deltau**2)\n",
    "        \n",
    "        d = 1.0\n",
    "        lam = d*(0.1*nab) + 1\n",
    "        #lam = d + 1\n",
    "       # lam = 1/lam\n",
    "        \n",
    "        f = (((U1_t + f1_x+g1_y )/lam)**2).mean() +\\\n",
    "            (((U2_t + f2_x+g2_y )/lam)**2).mean() +\\\n",
    "            (((U3_t + f3_x+g3_y )/lam)**2).mean() +\\\n",
    "            (((U4_t + f4_x+g4_y )/lam)**2).mean()\n",
    "\n",
    "      #  p = p+q\n",
    "        \n",
    "      #  dp_g = gradients(p, x)[0]                                      # Gradient [p_t, p_x]\n",
    "      #  p_t, p_x, p_y = dp_g[:, :1], dp_g[:, 1:2], dp_g[:,2:]                            # Partial derivatives p_t, p_x\n",
    "      #  \n",
    "      #  s1 = rho_t + (rhoR*uR - rhoL*uL)/0.02 +  (rhoU*uU - rhoD*uD)/0.02 \n",
    "      #  s2 = u*rho_t + u_t*rho + (rhoR*uR*uR +pR - rhoL*uL*uL-pL)/0.02 \\\n",
    "      #       +(rhoU*uU*vU - rhoD*uD*vD)/0.02 \n",
    "      #  s3 = v*rho_t + v_t*rho + (rhoU*vU*vU +pU - rhoD*vD*vD-pD)/0.02 \\\n",
    "      #       +(rhoR*uR*vR - rhoL*uL*vL)/0.02 \n",
    "      #  s4 = E_t + ((ER+pR)*uR - (EL+pL)*uL)/0.02 + ((EU+pU)*vU - (ED+pD)*vD)/0.02 \n",
    "      #  \n",
    "      #  du_gg = gradients(u_x, x)[0]                                      # Gradient [u_t, u_x]\n",
    "      #  u_xx, u_xy = du_gg[:, :1], du_gg[:, 1:2]                            # Partial derivatives u_t, u_x\n",
    "      #  \n",
    "      #  dv_gg = gradients(v_y, x)[0]                                      # Gradient [u_t, u_x]\n",
    "      #  v_yx, v_yy = dv_gg[:, :1], dv_gg[:, 1:2]                            # Partial derivatives u_t, u_x\n",
    "      #  \n",
    "      #  vis = -0.1*(u_xx + v_yy)\n",
    "#\n",
    "      #  f = (((rho_t+rho*deltau+u*rho_x + v*rho_y)/lam)**2).mean() +\\\n",
    "      #      (((rho*u_t+rho*u*u_x+rho*v*u_y+p_x +rho*vis)/lam)**2).mean() +\\\n",
    "      #      (((rho*v_t+rho*u*v_x+rho*v*v_y+p_y +rho*vis)/lam)**2).mean() +\\\n",
    "      #      (((p_t+u*p_x+v*p_y+1.4*p*deltau +rho*vis)/lam)**2).mean() + \\\n",
    "      #      ((abs(s1)+s1)**2).mean() +\\\n",
    "      #      ((abs(s3)+s3)**2).mean() +\\\n",
    "      #      ((abs(s2)+s2)**2).mean() +\\\n",
    "      #      ((abs(s4)+s4)**2).mean()\n",
    "      #      #(((abs(eta_t+phi1_x + phi2_y)+eta_t+phi1_x+ phi2_y))**2).mean()\n",
    "    #\n",
    "      #      #((abs(rho-1) - (rho-1))**2).mean()   + \\\n",
    "      #      #((abs(p-0.7) - (p-0.7))**2).mean() +\\\n",
    "        return f\n",
    " \n",
    "    # Loss function for initial condition\n",
    "    def loss_ic(self, x_ic, rho_ic, u_ic, v_ic,p_ic):\n",
    "        U_ic = self.net(x_ic)                                                      # Initial condition\n",
    "        rho_ic_nn, p_ic_nn,u_ic_nn,v_ic_nn = U_ic[:, 0], U_ic[:, 1], U_ic[:, 2],U_ic[:,3]            # rho, u, p - initial condition\n",
    "\n",
    "        # Loss function for the initial condition\n",
    "        loss_ics = ((u_ic_nn - u_ic) ** 2).mean() + \\\n",
    "               ((rho_ic_nn- rho_ic) ** 2).mean()  + \\\n",
    "               ((p_ic_nn - p_ic) ** 2).mean() +\\\n",
    "               ((v_ic_nn - v_ic) ** 2).mean()\n",
    "\n",
    "        return loss_ics\n",
    "# Solve Euler equations using PINNs\n",
    "# def main():\n",
    "  # Initialization"
   ]
  },
  {
   "cell_type": "code",
   "execution_count": 38,
   "metadata": {},
   "outputs": [
    {
     "name": "stdout",
     "output_type": "stream",
     "text": [
      "ERROR! Session/line number was not unique in database. History logging moved to new session 1677\n"
     ]
    }
   ],
   "source": [
    "device = torch.device('cuda')                                          # Run on CPU\n",
    "lr = 0.00013                                                           # Learning rate\n",
    "num_x = 1000                                                        # Number of points in t\n",
    "num_y = 1000                                                        # Number of points in t\n",
    "num_t = 2000                                                         # Number of points in x\n",
    "num_i_train = 10000                                                 # Random sampled points from IC0\n",
    "num_f_train = 30000                                                 # Random sampled points in interior\n",
    "num_test = 1000                                                 # Random sampled points in interior\n",
    "x = np.linspace(0.0, 1.0, num_x)                                   # Partitioned spatial axis\n",
    "y = np.linspace(0.0, 1.0, num_y)                                   # Partitioned spatial axis\n",
    "t = np.linspace(0, 0.2, num_t)                                        # Partitioned time axis\n",
    "\n",
    "\n",
    "#id_ic = np.random.choice(num_x, num_i_train, replace=False)           # Random sample numbering for IC\n",
    "\n",
    "xlimits = np.array([[0.0, 0.20], [0.0, 1.0], [0.0,1.0]])\n",
    "sampling = LHS(xlimits=xlimits)\n",
    "x_int_train = sampling(num_f_train)\n",
    "\n",
    "#xlimits = np.array([[0.0, 0.20], [0.2, 0.5], [0.6,0.8]])\n",
    "#sampling = LHS(xlimits=xlimits)\n",
    "#x_int_train_add = sampling(20000)\n",
    "#x_int_train = np.vstack((x_int_train,x_int_train_add))\n",
    "#\n",
    "xlimits = np.array([[0.0, 0.20], [0.4, 0.8], [0.4,0.8]])\n",
    "sampling = LHS(xlimits=xlimits)\n",
    "x_int_train_add = sampling(50000)\n",
    "x_int_train = np.vstack((x_int_train,x_int_train_add))\n",
    "\n",
    "xlimits_ic = np.array([[0.0, 0.0], [0.0, 1.0], [0.0,1.0]])\n",
    "sampling_ic = LHS(xlimits=xlimits_ic)\n",
    "x_ic_train =  sampling_ic(num_i_train)                                           # Vectorized whole domain\n",
    "\n",
    "\n",
    "xlimits_test = np.array([[0.2, 0.2], [0.0, 1.0],[0.0, 1.0]])\n",
    "sampling_test = LHS(xlimits=xlimits_test)\n",
    "x_test =  sampling_test(num_test)                                           # Vectorized whole domain\n",
    "\n",
    "#id_f = np.random.choice(num_x*num_t, num_f_train, replace=False)      # Random sample numbering for interior\n",
    "#t_grid, x_grid = np.meshgrid(t, x)                                    # (t,x) in [0,0.2]x[a,b]\n",
    "#T = t_grid.flatten()[:, None]                                         # Vectorized t_grid\n",
    "#X = x_grid.flatten()[:, None]                                         # Vectorized x_grid\n",
    "#x_int = X[:, 0][id_f, None]                                           # Random x - interior\n",
    "#t_int = T[:, 0][id_f, None]                                           # Random t - interior\n",
    "#x_int_train = np.hstack((t_int, x_int))                               # Random (x,t) - vectorized\n",
    "#x_ic = x_grid[id_ic, 0][:, None]                                      # Random x - initial condition\n",
    "#t_ic = t_grid[id_ic, 0][:, None]                                      # random t - initial condition\n",
    "#x_ic_train = np.hstack((t_ic, x_ic))                                  # Random (x,t) - vectorized\n",
    "\n",
    "\n",
    "\n"
   ]
  },
  {
   "cell_type": "code",
   "execution_count": 55,
   "metadata": {},
   "outputs": [
    {
     "name": "stdout",
     "output_type": "stream",
     "text": [
      "ERROR! Session/line number was not unique in database. History logging moved to new session 1686\n",
      "Start training...\n"
     ]
    },
    {
     "name": "stderr",
     "output_type": "stream",
     "text": [
      "<ipython-input-55-6ef841c57b6a>:3: UserWarning: To copy construct from a tensor, it is recommended to use sourceTensor.clone().detach() or sourceTensor.clone().detach().requires_grad_(True), rather than torch.tensor(sourceTensor).\n",
      "  x_ic_train = torch.tensor(x_ic_train, dtype=torch.float32).to(device)\n",
      "<ipython-input-55-6ef841c57b6a>:4: UserWarning: To copy construct from a tensor, it is recommended to use sourceTensor.clone().detach() or sourceTensor.clone().detach().requires_grad_(True), rather than torch.tensor(sourceTensor).\n",
      "  x_int_train = torch.tensor(x_int_train, requires_grad=True, dtype=torch.float32).to(device)\n",
      "<ipython-input-55-6ef841c57b6a>:5: UserWarning: To copy construct from a tensor, it is recommended to use sourceTensor.clone().detach() or sourceTensor.clone().detach().requires_grad_(True), rather than torch.tensor(sourceTensor).\n",
      "  x_test = torch.tensor(x_test, dtype=torch.float32).to(device)\n"
     ]
    }
   ],
   "source": [
    "rho_ic_train, u_ic_train,v_ic_train, p_ic_train = IC(x_ic_train)                       # Initial condition evaluated at random sample\n",
    "\n",
    "x_ic_train = torch.tensor(x_ic_train, dtype=torch.float32).to(device)\n",
    "x_int_train = torch.tensor(x_int_train, requires_grad=True, dtype=torch.float32).to(device)\n",
    "x_test = torch.tensor(x_test, dtype=torch.float32).to(device)\n",
    "\n",
    "rho_ic_train = torch.tensor(rho_ic_train, dtype=torch.float32).to(device)\n",
    "u_ic_train = torch.tensor(u_ic_train, dtype=torch.float32).to(device)\n",
    "v_ic_train = torch.tensor(v_ic_train, dtype=torch.float32).to(device)\n",
    "p_ic_train = torch.tensor(p_ic_train, dtype=torch.float32).to(device)\n",
    "\n",
    "# Initialize neural network\n",
    "#model = DNN().to(device)\n",
    "\n",
    "# Loss and optimizer\n",
    "optimizer = torch.optim.Adam(model.parameters(), lr=lr)\n",
    "#optimizer = torch.optim.LBFGS(model.parameters(),lr=lr,max_iter=50)\n",
    "\n",
    "# Print CPU\n",
    "print('Start training...')\n",
    "#__name__ == '__main__':``\n",
    "#"
   ]
  },
  {
   "cell_type": "code",
   "execution_count": null,
   "metadata": {
    "scrolled": true
   },
   "outputs": [
    {
     "name": "stdout",
     "output_type": "stream",
     "text": [
      "ERROR! Session/line number was not unique in database. History logging moved to new session 1687\n"
     ]
    }
   ],
   "source": [
    "epochs = 1\n",
    "tic = time.time()\n",
    "for epoch in range(1, epochs+1):\n",
    "    train(epoch)\n",
    "toc = time.time()\n",
    "print(f'Total training time: {toc - tic}')\n"
   ]
  },
  {
   "cell_type": "code",
   "execution_count": null,
   "metadata": {},
   "outputs": [
    {
     "name": "stdout",
     "output_type": "stream",
     "text": [
      "ERROR! Session/line number was not unique in database. History logging moved to new session 1688\n"
     ]
    }
   ],
   "source": [
    "# Evaluate on the whole computational domain\n",
    "#u = to_numpy(model(x_test))\n",
    "#x = to_numpy(x_test)\n",
    "x = np.linspace(0.0, 1.0, 400)                                   # Partitioned spatial axis\n",
    "y = np.linspace(0.0, 1.0, 400)                                   # Partitioned spatial axis\n",
    "t = np.linspace(0.2, 0.2, 1)                                        # Partitioned time axis\n",
    "t_grid, x_grid,y_grid = np.meshgrid(t,x,y)                                    # (t,x) in [0,0.2]x[a,b]\n",
    "T = t_grid.flatten()[:, None]                                        # Vectorized t_grid\n",
    "X = x_grid.flatten()[:, None]                                         # Vectorized x_grid\n",
    "Y = y_grid.flatten()[:, None]                                         # Vectorized x_grid\n",
    "x_test = np.hstack((T, X, Y))                                            # Vectorized whole domain\n",
    "x_test = torch.tensor(x_test, dtype=torch.float32).to(device)\n",
    "u = to_numpy(model(x_test))\n",
    "#Xp,Yp = meshgrid(x,y)\n",
    "\n",
    "ue = np.zeros((400,400))\n",
    "for i in range(0,400):\n",
    "    for j in range(0,400):\n",
    "        ue[i,j] = u[j*400+i,0]\n",
    "\n",
    "uo = ue.flatten()[:,None]\n",
    "uxy= np.hstack((X, Y,uo))                                            # Vectorized whole domain\n"
   ]
  },
  {
   "cell_type": "code",
   "execution_count": 46,
   "metadata": {},
   "outputs": [],
   "source": [
    "np.savetxt('Riemannv100.txt', uxy)"
   ]
  },
  {
   "cell_type": "code",
   "execution_count": 53,
   "metadata": {
    "scrolled": true
   },
   "outputs": [
    {
     "name": "stdout",
     "output_type": "stream",
     "text": [
      "ERROR! Session/line number was not unique in database. History logging moved to new session 1683\n"
     ]
    },
    {
     "data": {
      "image/png": "[encoded data removed]",
      "text/plain": [
       "<Figure size 640x480 with 1 Axes>"
      ]
     },
     "metadata": {},
     "output_type": "display_data"
    }
   ],
   "source": [
    "plt.figure()\n",
    "plt.contourf(x_grid[:,0,:],y_grid[:,0,:],ue,30)\n",
    "#plt.pcolor(x_grid[:,0,:],y_grid[:,0,:],ue)\n",
    "#plt.colorbar(x_grid[:,0,:],y_grid[:,0,:],ue)\n",
    "#plt.scatter(x_int_train[:,1],)\n",
    "#plt.pcolor(x[:],u[:,1])\n",
    "#plt.pcolor(x[:],u[:,2])\n",
    "ax = plt.gca()\n",
    "ax.set_aspect(1)\n",
    "#plt.savefig(\"Riemann5.pdf\", dpi=150)\n",
    "plt.show()\n"
   ]
  },
  {
   "cell_type": "code",
   "execution_count": 63,
   "metadata": {},
   "outputs": [],
   "source": [
    "#fig, ax = plt.subplots(subplot_kw={\"projection\": \"3d\"})\n",
    "#surf = ax.plot_surface(x_grid[:,0,:], y_grid[:,0,:], ue, cmap=cm.coolwarm,\n",
    "#                       linewidth=0, antialiased=False)\n",
    "#\n",
    "## Customize the z axis.\n",
    "#ax.set_zlim(0, 1.01)\n",
    "#ax.zaxis.set_major_locator(LinearLocator(10))\n",
    "## A StrMethodFormatter is used automatically\n",
    "#ax.zaxis.set_major_formatter('{x:.02f}')\n",
    "#\n",
    "## Add a color bar which maps values to colors.\n",
    "#fig.colorbar(surf, shrink=0.5, aspect=5)\n",
    "#plt.show()"
   ]
  },
  {
   "cell_type": "code",
   "execution_count": 48,
   "metadata": {},
   "outputs": [
    {
     "name": "stderr",
     "output_type": "stream",
     "text": [
      "<ipython-input-48-283573e4f66f>:23: RuntimeWarning: More than 20 figures have been opened. Figures created through the pyplot interface (`matplotlib.pyplot.figure`) are retained until explicitly closed and may consume too much memory. (To control this warning, see the rcParam `figure.max_open_warning`).\n",
      "  plt.figure()\n"
     ]
    }
   ],
   "source": [
    "for k in range(11,100):\n",
    "    x = np.linspace(0.0, 1.0, 201)                                   # Partitioned spatial axis\n",
    "    y = np.linspace(0.0, 1.0, 200)                                   # Partitioned spatial axis\n",
    "    T = 0.002*(k+1)\n",
    "    t = np.linspace(T, T, 1)                                        # Partitioned time axis\n",
    "    t_grid, x_grid,y_grid = np.meshgrid(t,x,y)                                    # (t,x) in [0,0.2]x[a,b]\n",
    "    T = t_grid.flatten()[:, None]                                        # Vectorized t_grid\n",
    "    X = x_grid.flatten()[:, None]                                         # Vectorized x_grid\n",
    "    Y = y_grid.flatten()[:, None]                                         # Vectorized x_grid\n",
    "    x_test = np.hstack((T, X, Y))                                            # Vectorized whole domain\n",
    "    x_test = torch.tensor(x_test, dtype=torch.float32).to(device)\n",
    "    u = to_numpy(model(x_test))\n",
    "    #Xp,Yp = meshgrid(x,y)\n",
    "    \n",
    "    ue = np.zeros((201,200))\n",
    "    for i in range(0,201):\n",
    "        for j in range(0,200):\n",
    "            ue[i,j] = u[j*200+i,0]\n",
    "    \n",
    "    uo = ue.flatten()[:,None]\n",
    "    #uxy= np.hstack((X, Y,uo))                                            # Vectorized whole domain\n",
    "\n",
    "    plt.figure()\n",
    "    plt.contourf(x_grid[:,0,:],y_grid[:,0,:],ue,50)\n",
    "    #plt.pcolor(x_grid[:,0,:],y_grid[:,0,:],ue)\n",
    "    #plt.colorbar(x_grid[:,0,:],y_grid[:,0,:],ue)\n",
    "    #plt.scatter(x_int_train[:,1],)\n",
    "    #plt.pcolor(x[:],u[:,1])\n",
    "    #plt.pcolor(x[:],u[:,2])\n",
    "    plt.savefig(\"temp{}.png\".format(k),dpi=200)\n",
    "    plt.clf()\n",
    "    #plt.show()\n"
   ]
  },
  {
   "cell_type": "code",
   "execution_count": null,
   "metadata": {},
   "outputs": [
    {
     "name": "stdout",
     "output_type": "stream",
     "text": [
      "ERROR! Session/line number was not unique in database. History logging moved to new session 868\n"
     ]
    }
   ],
   "source": [
    "model = torch.load('2DRiemanncase1.pt')"
   ]
  },
  {
   "cell_type": "code",
   "execution_count": null,
   "metadata": {},
   "outputs": [],
   "source": [
    "torch.save(model,'2DRiemanncase1.pt')"
   ]
  },
  {
   "cell_type": "code",
   "execution_count": 54,
   "metadata": {},
   "outputs": [
    {
     "data": {
      "text/plain": [
       "DNN(\n",
       "  (net): Sequential(\n",
       "    (Linear_layer_1): Linear(in_features=3, out_features=90, bias=True)\n",
       "    (Tanh_layer_1): Tanh()\n",
       "    (Linear_layer_2): Linear(in_features=90, out_features=90, bias=True)\n",
       "    (Tanh_layer_2): Tanh()\n",
       "    (Linear_layer_3): Linear(in_features=90, out_features=90, bias=True)\n",
       "    (Tanh_layer_3): Tanh()\n",
       "    (Linear_layer_4): Linear(in_features=90, out_features=90, bias=True)\n",
       "    (Tanh_layer_4): Tanh()\n",
       "    (Linear_layer_5): Linear(in_features=90, out_features=90, bias=True)\n",
       "    (Tanh_layer_5): Tanh()\n",
       "    (Linear_layer_final): Linear(in_features=90, out_features=4, bias=True)\n",
       "  )\n",
       ")"
      ]
     },
     "execution_count": 54,
     "metadata": {},
     "output_type": "execute_result"
    }
   ],
   "source": [
    "model"
   ]
  },
  {
   "cell_type": "code",
   "execution_count": null,
   "metadata": {},
   "outputs": [],
   "source": [
    "device1 = torch.device(\"cpu\")\n",
    "#model.load_state_dict(torch.load(PATH))\n",
    "model = model.to(device1)\n",
    "torch.save(model,'2DRiemanncase8.pt')"
   ]
  },
  {
   "cell_type": "code",
   "execution_count": 52,
   "metadata": {},
   "outputs": [
    {
     "data": {
      "text/plain": [
       "DNN(\n",
       "  (net): Sequential(\n",
       "    (Linear_layer_1): Linear(in_features=3, out_features=90, bias=True)\n",
       "    (Tanh_layer_1): Tanh()\n",
       "    (Linear_layer_2): Linear(in_features=90, out_features=90, bias=True)\n",
       "    (Tanh_layer_2): Tanh()\n",
       "    (Linear_layer_3): Linear(in_features=90, out_features=90, bias=True)\n",
       "    (Tanh_layer_3): Tanh()\n",
       "    (Linear_layer_4): Linear(in_features=90, out_features=90, bias=True)\n",
       "    (Tanh_layer_4): Tanh()\n",
       "    (Linear_layer_5): Linear(in_features=90, out_features=90, bias=True)\n",
       "    (Tanh_layer_5): Tanh()\n",
       "    (Linear_layer_final): Linear(in_features=90, out_features=4, bias=True)\n",
       "  )\n",
       ")"
      ]
     },
     "execution_count": 52,
     "metadata": {},
     "output_type": "execute_result"
    }
   ],
   "source": []
  },
  {
   "cell_type": "code",
   "execution_count": null,
   "metadata": {},
   "outputs": [],
   "source": [
    "model = torch.load('2DRiemanncase8.pt')\n",
    "model.eval()"
   ]
  },
  {
   "cell_type": "code",
   "execution_count": 56,
   "metadata": {},
   "outputs": [
    {
     "name": "stdout",
     "output_type": "stream",
     "text": [
      "ERROR! Session/line number was not unique in database. History logging moved to new session 1690\n"
     ]
    }
   ],
   "source": [
    "model = model.to(device)"
   ]
  },
  {
   "cell_type": "code",
   "execution_count": null,
   "metadata": {},
   "outputs": [],
   "source": []
  }
 ],
 "metadata": {
  "@webio": {
   "lastCommId": null,
   "lastKernelId": null
  },
  "interpreter": {
   "hash": "31f2aee4e71d21fbe5cf8b01ff0e069b9275f58929596ceb00d14d90e3e16cd6"
  },
  "kernelspec": {
   "display_name": "Python 3",
   "language": "python",
   "name": "python3"
  },
  "language_info": {
   "codemirror_mode": {
    "name": "ipython",
    "version": 3
   },
   "file_extension": ".py",
   "mimetype": "text/x-python",
   "name": "python",
   "nbconvert_exporter": "python",
   "pygments_lexer": "ipython3",
   "version": "3.8.10"
  },
  "latex_envs": {
   "LaTeX_envs_menu_present": true,
   "autoclose": false,
   "autocomplete": true,
   "bibliofile": "biblio.bib",
   "cite_by": "apalike",
   "current_citInitial": 1,
   "eqLabelWithNumbers": true,
   "eqNumInitial": 1,
   "hotkeys": {
    "equation": "Ctrl-E",
    "itemize": "Ctrl-I"
   },
   "labels_anchors": false,
   "latex_user_defs": false,
   "report_style_numbering": false,
   "user_envs_cfg": false
  },
  "toc": {
   "base_numbering": 1,
   "nav_menu": {},
   "number_sections": true,
   "sideBar": true,
   "skip_h1_title": false,
   "title_cell": "Table of Contents",
   "title_sidebar": "Contents",
   "toc_cell": false,
   "toc_position": {},
   "toc_section_display": true,
   "toc_window_display": false
  },
  "varInspector": {
   "cols": {
    "lenName": 16,
    "lenType": 16,
    "lenVar": 40
   },
   "kernels_config": {
    "python": {
     "delete_cmd_postfix": "",
     "delete_cmd_prefix": "del ",
     "library": "var_list.py",
     "varRefreshCmd": "print(var_dic_list())"
    },
    "r": {
     "delete_cmd_postfix": ") ",
     "delete_cmd_prefix": "rm(",
     "library": "var_list.r",
     "varRefreshCmd": "cat(var_dic_list()) "
    }
   },
   "types_to_exclude": [
    "module",
    "function",
    "builtin_function_or_method",
    "instance",
    "_Feature"
   ],
   "window_display": false
  }
 },
 "nbformat": 4,
 "nbformat_minor": 2
}
