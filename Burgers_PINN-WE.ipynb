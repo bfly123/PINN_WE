{
 "cells": [
  {
   "cell_type": "markdown",
   "metadata": {},
   "source": [
    "# Burgers equation\n",
    "\n",
    "This code is modified from the code https://github.com/alexpapados/Physics-Informed-Deep-Learning-Solid-and-Fluid-Mechanics\n",
    "\n",
    "The paper about this work can ref https://www.researchgate.net/publication/359480166_Discontinuity_Computing_with_Physics-Informed_Neural_Network"
   ]
  },
  {
   "cell_type": "code",
   "execution_count": 127,
   "metadata": {},
   "outputs": [],
   "source": [
    "import torch\n",
    "import torch.nn as nn\n",
    "import numpy as np\n",
    "import time\n",
    "import scipy.io\n",
    "torch.manual_seed(124)\n",
    "np.random.seed(124)"
   ]
  },
  {
   "cell_type": "code",
   "execution_count": 128,
   "metadata": {},
   "outputs": [],
   "source": [
    "def train(epoch):\n",
    "    model.train()\n",
    "    model.it = epoch\n",
    "    def closure():\n",
    "        optimizer.zero_grad()                                              \n",
    "        loss_pde = model.loss_pde(x_int)                                   \n",
    "        loss_ic = model.loss_ic(x_ic, u_ic)  \n",
    "        loss = loss_pde + 10*loss_ic                                       \n",
    "\n",
    "        print(f'epoch {epoch} loss_pde:{loss_pde:.8f}, loss_ic:{loss_ic:.8f}')\n",
    "        model.it = model.it + 1\n",
    "        outputfile = open('loss_history_burgers.dat','a+')\n",
    "        print(f'{model.it}  {loss_pde:.6f}  {loss_ic:.6f}  {loss:.6f}',file=outputfile)\n",
    "        outputfile.close() \n",
    "        loss.backward()\n",
    "        return loss\n",
    "\n",
    "    loss = optimizer.step(closure)\n",
    "    loss_value = loss.item() if not isinstance(loss, float) else loss\n",
    "    print(f'epoch {epoch}: loss {loss_value:.6f}')\n",
    "    \n",
    "def gradients(outputs, inputs):\n",
    "    return torch.autograd.grad(outputs, inputs,grad_outputs=torch.ones_like(outputs), create_graph=True)\n",
    "\n",
    "def to_numpy(input):\n",
    "    if isinstance(input, torch.Tensor):\n",
    "        return input.detach().cpu().numpy()\n",
    "    elif isinstance(input, np.ndarray):\n",
    "        return input\n",
    "    else:\n",
    "        raise TypeError('Unknown type of input, expected torch.Tensor or ' \\\n",
    "                        'np.ndarray, but got {}'.format(type(input)))\n",
    "\n",
    "def IC(x):\n",
    "    N = len(x)\n",
    "    u_init = np.zeros((x.shape[0]))                                                \n",
    "    for i in range(N):\n",
    "        u_init[i] = -np.sin(np.pi*(x[i,1]-1))\n",
    "    return u_init\n",
    "\n",
    "class DNN(nn.Module):\n",
    "    def __init__(self):\n",
    "        super(DNN, self).__init__()\n",
    "        self.net = nn.Sequential()                                                  \n",
    "        self.net.add_module('Linear_layer_1', nn.Linear(2, 30))                     \n",
    "        self.net.add_module('Tanh_layer_1', nn.Tanh())                              \n",
    "\n",
    "        for num in range(2, 5):                                                     \n",
    "            self.net.add_module('Linear_layer_%d' % (num), nn.Linear(30, 30))       \n",
    "            self.net.add_module('Tanh_layer_%d' % (num), nn.Tanh())                 \n",
    "        self.net.add_module('Linear_layer_final', nn.Linear(30, 1))                 \n",
    "\n",
    "    def forward(self, x):\n",
    "        return self.net(x)\n",
    "\n",
    "    def loss_pde(self, x):\n",
    "        y = self.net(x)                                                \n",
    "        u = y[:, 0:1]\n",
    "        \n",
    "        U = u**2/2\n",
    "\n",
    "        dU_g = gradients(U, x)[0]                                  \n",
    "        U_x = dU_g[:, 1:]\n",
    "        du_g = gradients(u, x)[0]                                 \n",
    "        u_t,u_x = du_g[:, :1],du_g[:,1:]\n",
    "        d = 0.1*(abs(u_x)-u_x) + 1\n",
    "      #  d = 1\n",
    "        f = (((u_t + U_x)/d)**2).mean() \n",
    "         \n",
    "        return f\n",
    "    def res_pde(self,x):\n",
    "        y = self.net(x)\n",
    "        Res = np.zeros((x.shape[0]))                                  \n",
    "        \n",
    "        u = y[:, 0:1]\n",
    "        U = u**2/2\n",
    "        dU_g = gradients(U, x)[0]                                 \n",
    "        U_x = dU_g[:, 1:]\n",
    "        du_g = gradients(u, x)[0]                                  \n",
    "        u_t,u_x = du_g[:, :1],du_g[:,1:]\n",
    "        Res = (u_t + U_x)**2 \n",
    "        return Res \n",
    "    \n",
    "    def lambda_pde(self,x):\n",
    "        y = self.net(x)\n",
    "        Res = np.zeros((x.shape[0]))                                  \n",
    "        \n",
    "        u = y[:, 0:1]\n",
    "        du_g = gradients(u, x)[0]                                  \n",
    "        u_t,u_x = du_g[:, :1],du_g[:,1:]\n",
    "        d = 0.1*(abs(u_x)-u_x) + 1\n",
    "        return  d\n",
    "        \n",
    "\n",
    "    def loss_ic(self, x_ic, u_ic):\n",
    "        y_ic = self.net(x_ic)                                                      \n",
    "        u_ic_nn = y_ic[:, 0]\n",
    "        loss_ics = ((u_ic_nn - u_ic) ** 2).mean()\n",
    "        return loss_ics"
   ]
  },
  {
   "cell_type": "code",
   "execution_count": 129,
   "metadata": {},
   "outputs": [
    {
     "name": "stdout",
     "output_type": "stream",
     "text": [
      "Start training...\n"
     ]
    }
   ],
   "source": [
    "\n",
    "device = torch.device('cuda')                                      \n",
    "num_x = 100                                                        \n",
    "num_t = 100                                                        \n",
    "num_i_train = 100                                           \n",
    "num_f_train = 10000                                            \n",
    "x = np.linspace(0, 2, num_x)                                   \n",
    "t = np.linspace(0, 1, num_t)                                   \n",
    "t_grid, x_grid = np.meshgrid(t, x)                             \n",
    "T = t_grid.flatten()[:, None]                                  \n",
    "X = x_grid.flatten()[:, None]                                  \n",
    "\n",
    "id_ic = np.random.choice(num_x, num_i_train, replace=False)    \n",
    "id_f = np.random.choice(num_x*num_t, num_f_train, replace=False)\n",
    "\n",
    "x_ic = x_grid[id_ic, 0][:, None]                               \n",
    "t_ic = t_grid[id_ic, 0][:, None]                               \n",
    "x_ic_train = np.hstack((t_ic, x_ic))                               \n",
    "u_ic_train = IC(x_ic_train)                 \n",
    "\n",
    "x_int = X[:, 0][id_f, None]                                        \n",
    "t_int = T[:, 0][id_f, None]                                        \n",
    "x_int_train = np.hstack((t_int, x_int))                            \n",
    "\n",
    "x_ic = torch.tensor(x_ic_train, dtype=torch.float32).to(device)\n",
    "x_int = torch.tensor(x_int_train, requires_grad=True, dtype=torch.float32).to(device)\n",
    "u_ic = torch.tensor(u_ic_train, dtype=torch.float32).to(device)\n",
    "\n",
    "model = DNN().to(device)\n",
    "\n",
    "lr = 0.001\n",
    "optimizer = torch.optim.Adam(model.parameters(), lr=lr)\n",
    "print('Start training...')"
   ]
  },
  {
   "cell_type": "code",
   "execution_count": null,
   "metadata": {
    "scrolled": true
   },
   "outputs": [],
   "source": [
    "#optimizer = torch.optim.LBFGS(model.parameters(),lr=0.01,max_iter=20)\n",
    "epochs = 15000\n",
    "tic = time.time()\n",
    "for epoch in range(1, epochs+1):\n",
    "    train(epoch)\n",
    "    \n",
    "toc = time.time()"
   ]
  },
  {
   "cell_type": "code",
   "execution_count": 131,
   "metadata": {
    "scrolled": true
   },
   "outputs": [
    {
     "data": {
      "image/png": "[encoded data removed]",
      "text/plain": [
       "<Figure size 640x480 with 1 Axes>"
      ]
     },
     "metadata": {},
     "output_type": "display_data"
    }
   ],
   "source": [
    "\n",
    "x = np.linspace(0.0, 2.0, 100)                                  \n",
    "t = np.linspace(1.0, 1.0, 1)                                        \n",
    "t_grid, x_grid = np.meshgrid(t, x)                              \n",
    "T = t_grid.flatten()[:, None]                                   \n",
    "X = x_grid.flatten()[:, None]                                   \n",
    "x_test = np.hstack((T, X))                                      \n",
    "x_test = torch.tensor(x_test, requires_grad=True, dtype=torch.float32).to(device)\n",
    "u_pred = to_numpy(model(x_test))\n",
    "res = to_numpy(model.res_pde(x_test))\n",
    "d   = to_numpy(model.lambda_pde(x_test))\n",
    "\n",
    "#loss = model.loss_pde(x_test)                                 \n",
    "\n",
    "import matplotlib.pyplot as plt\n",
    "plt.figure()\n",
    "plt.scatter(x[:],u_pred[:,0])\n",
    "plt.show()"
   ]
  },
  {
   "cell_type": "code",
   "execution_count": 78,
   "metadata": {
    "scrolled": true
   },
   "outputs": [
    {
     "data": {
      "image/png": "[encoded data removed]",
      "text/plain": [
       "<Figure size 640x480 with 1 Axes>"
      ]
     },
     "metadata": {},
     "output_type": "display_data"
    }
   ],
   "source": [
    "plt.scatter(x[:],1/d[:,0])\n",
    "\n",
    "plt.show()"
   ]
  },
  {
   "cell_type": "code",
   "execution_count": 124,
   "metadata": {},
   "outputs": [],
   "source": [
    "new_array = np.array(u_pred[:,0])\n",
    "file = open(\"burgers_u_we_11500.dat\", \"w+\")\n",
    "for i in range(u_pred.shape[0]):\n",
    "    print(f'{x[i]}  {u_pred[i,0]} ',file=file)\n",
    "file.close()"
   ]
  },
  {
   "cell_type": "code",
   "execution_count": 14,
   "metadata": {},
   "outputs": [],
   "source": [
    "new_array = np.array(res[:,0])\n",
    "file = open(\"burgers_res_w_5000.dat\", \"w+\")\n",
    "for i in range(u_pred.shape[0]):\n",
    "    print(f'{x[i]}  {res[i,0]} ',file=file)\n",
    "file.close()"
   ]
  },
  {
   "cell_type": "code",
   "execution_count": 57,
   "metadata": {},
   "outputs": [],
   "source": [
    "file = open(\"burgers_d_w_14931.dat\", \"w+\")\n",
    "for i in range(d.shape[0]):\n",
    "    print(f'{x[i]}  {1/d[i,0]} ',file=file)\n",
    "file.close()"
   ]
  },
  {
   "cell_type": "code",
   "execution_count": null,
   "metadata": {},
   "outputs": [],
   "source": []
  }
 ],
 "metadata": {
  "kernelspec": {
   "display_name": "Python 3",
   "language": "python",
   "name": "python3"
  },
  "language_info": {
   "codemirror_mode": {
    "name": "ipython",
    "version": 3
   },
   "file_extension": ".py",
   "mimetype": "text/x-python",
   "name": "python",
   "nbconvert_exporter": "python",
   "pygments_lexer": "ipython3",
   "version": "3.8.10"
  },
  "latex_envs": {
   "LaTeX_envs_menu_present": true,
   "autoclose": false,
   "autocomplete": true,
   "bibliofile": "biblio.bib",
   "cite_by": "apalike",
   "current_citInitial": 1,
   "eqLabelWithNumbers": true,
   "eqNumInitial": 1,
   "hotkeys": {
    "equation": "Ctrl-E",
    "itemize": "Ctrl-I"
   },
   "labels_anchors": false,
   "latex_user_defs": false,
   "report_style_numbering": false,
   "user_envs_cfg": false
  },
  "toc": {
   "base_numbering": 1,
   "nav_menu": {},
   "number_sections": true,
   "sideBar": true,
   "skip_h1_title": false,
   "title_cell": "Table of Contents",
   "title_sidebar": "Contents",
   "toc_cell": false,
   "toc_position": {},
   "toc_section_display": true,
   "toc_window_display": false
  },
  "varInspector": {
   "cols": {
    "lenName": 16,
    "lenType": 16,
    "lenVar": 40
   },
   "kernels_config": {
    "python": {
     "delete_cmd_postfix": "",
     "delete_cmd_prefix": "del ",
     "library": "var_list.py",
     "varRefreshCmd": "print(var_dic_list())"
    },
    "r": {
     "delete_cmd_postfix": ") ",
     "delete_cmd_prefix": "rm(",
     "library": "var_list.r",
     "varRefreshCmd": "cat(var_dic_list()) "
    }
   },
   "types_to_exclude": [
    "module",
    "function",
    "builtin_function_or_method",
    "instance",
    "_Feature"
   ],
   "window_display": false
  }
 },
 "nbformat": 4,
 "nbformat_minor": 4
}
